{
 "metadata": {
  "name": "",
  "signature": "sha256:9ff8c884c28d6311aa91de87b5ec917c276775fc8657f5c6a9932d7b35c562b0"
 },
 "nbformat": 3,
 "nbformat_minor": 0,
 "worksheets": [
  {
   "cells": [
    {
     "cell_type": "code",
     "collapsed": false,
     "input": [
      "import os\n",
      "import cv2\n",
      "import csv\n",
      "from pylab import *\n",
      "import scipy\n",
      "import scipy.misc\n",
      "from PIL import Image\n",
      "from skimage.util.shape import view_as_blocks, view_as_windows\n",
      "#from joblib import Parallel, delayed\n",
      "import numpy as np\n",
      "from scipy import stats\n",
      "import cPickle as pickle\n",
      "%matplotlib inline"
     ],
     "language": "python",
     "metadata": {},
     "outputs": [
      {
       "ename": "ImportError",
       "evalue": "No module named cv2",
       "output_type": "pyerr",
       "traceback": [
        "\u001b[0;31m---------------------------------------------------------------------------\u001b[0m\n\u001b[0;31mImportError\u001b[0m                               Traceback (most recent call last)",
        "\u001b[0;32m<ipython-input-1-fa09d07396a2>\u001b[0m in \u001b[0;36m<module>\u001b[0;34m()\u001b[0m\n\u001b[1;32m      1\u001b[0m \u001b[0;32mimport\u001b[0m \u001b[0mos\u001b[0m\u001b[0;34m\u001b[0m\u001b[0m\n\u001b[0;32m----> 2\u001b[0;31m \u001b[0;32mimport\u001b[0m \u001b[0mcv2\u001b[0m\u001b[0;34m\u001b[0m\u001b[0m\n\u001b[0m\u001b[1;32m      3\u001b[0m \u001b[0;32mimport\u001b[0m \u001b[0mcsv\u001b[0m\u001b[0;34m\u001b[0m\u001b[0m\n\u001b[1;32m      4\u001b[0m \u001b[0;32mfrom\u001b[0m \u001b[0mpylab\u001b[0m \u001b[0;32mimport\u001b[0m \u001b[0;34m*\u001b[0m\u001b[0;34m\u001b[0m\u001b[0m\n\u001b[1;32m      5\u001b[0m \u001b[0;32mimport\u001b[0m \u001b[0mscipy\u001b[0m\u001b[0;34m\u001b[0m\u001b[0m\n",
        "\u001b[0;31mImportError\u001b[0m: No module named cv2"
       ]
      }
     ],
     "prompt_number": 1
    },
    {
     "cell_type": "code",
     "collapsed": false,
     "input": [
      "src_path, image_type = \"/Users/jaja/Documents/products/data/zappos50k/ut-zap50k-images/\", \".jpg\"\n",
      "image_paths = []\n",
      "for root, dirs, files in os.walk(src_path):\n",
      "    image_paths.extend([os.path.join(root, f) for f in files if f.endswith(image_type)])"
     ],
     "language": "python",
     "metadata": {},
     "outputs": []
    },
    {
     "cell_type": "code",
     "collapsed": false,
     "input": [
      "num_zones = 3"
     ],
     "language": "python",
     "metadata": {},
     "outputs": []
    },
    {
     "cell_type": "code",
     "collapsed": false,
     "input": [
      "def HSVhist_cv(im_path, num_blocks, channels = range(3)):\n",
      "    # read image\n",
      "    im = cv2.imread(im_path)\n",
      "    im = cv2.cvtColor(im, cv2.COLOR_BGR2HSV)\n",
      "    if str(type(im)) == \"<type 'NoneType'>\":\n",
      "        return None\n",
      "    # set block step sizes\n",
      "    step_x = im.shape[0]/num_blocks\n",
      "    step_y = im.shape[1]/num_blocks\n",
      "    hists = {}\n",
      "    for i in range(num_blocks):\n",
      "            for j in range(num_blocks):\n",
      "                # set starting and ending indices for row blocks\n",
      "                if i < (num_blocks-1): \n",
      "                    start_x, end_x = i*step_x, (i+1)*step_x\n",
      "                # deal with the edge case row blocks\n",
      "                else:\n",
      "                    start_x, end_x = i*step_x, im.shape[0]\n",
      "                # set starting and ending indices for vertical blocks\n",
      "                if j < (num_blocks-1):\n",
      "                    start_y, end_y = j*step_y, (j+1)*step_y\n",
      "                # deal with the edge case vertical blocks\n",
      "                else:\n",
      "                    start_y, end_y = j*step_y, im.shape[1]    \n",
      "                #copy image into block\n",
      "                im_block = im[start_x:end_x, start_y:end_y,:].copy()\n",
      "                hist_channels = []\n",
      "                if type(channels) == int:\n",
      "                    if channels == 0:\n",
      "                        hist_temp = cv2.calcHist([im_block],[channels],None,[180],[0,180])\n",
      "                        hist_channels.append(hist_temp/(max(hist_temp)+1.0))\n",
      "                    else:\n",
      "                        hist_temp = cv2.calcHist([im_block],[channels],None,[256],[0,256])\n",
      "                        hist_channels.append(hist_temp/(max(hist_temp)+1.0))   \n",
      "                else:                   \n",
      "                    for channel in channels: \n",
      "                        if channel == 0:\n",
      "                            hist_temp = cv2.calcHist([im_block],[channel],None,[180],[0,180])\n",
      "                            hist_channels.append(hist_temp/(max(hist_temp)+1.0))\n",
      "                        else:\n",
      "                            hist_temp = cv2.calcHist([im_block],[channel],None,[256],[0,256])\n",
      "                            hist_channels.append(hist_temp/(max(hist_temp)+1.0))\n",
      "                hists[(start_x, end_x, start_y, end_y)] = hist_channels\n",
      "    return hists\n",
      "\n",
      "def HSVhist_pretty(image_path, num_zones = 1, channels = range(3)):\n",
      "    hists = HSVhist_cv(image_path, num_zones, channels)\n",
      "    features = []\n",
      "    for key in sorted(hists.keys()):\n",
      "        l = hists[key]\n",
      "        ## flatten list of lists (list of histogram lists)\n",
      "        features.append([item for sublist in l for item in sublist])\n",
      "    return [item for sublist in features for item in sublist]"
     ],
     "language": "python",
     "metadata": {},
     "outputs": []
    },
    {
     "cell_type": "code",
     "collapsed": false,
     "input": [
      "def HUEhist_cv(im_path, num_blocks):\n",
      "    # read image\n",
      "    im = cv2.imread(im_path)\n",
      "    im = cv2.cvtColor(im, cv2.COLOR_BGR2HSV)\n",
      "    if str(type(im)) == \"<type 'NoneType'>\":\n",
      "        return None\n",
      "    # set block step sizes\n",
      "    step_x = im.shape[0]/num_blocks\n",
      "    step_y = im.shape[1]/num_blocks\n",
      "    hists = {}\n",
      "    for i in range(num_blocks):\n",
      "            for j in range(num_blocks):\n",
      "                # set starting and ending indices for row blocks\n",
      "                if i < (num_blocks-1): \n",
      "                    start_x, end_x = i*step_x, (i+1)*step_x\n",
      "                # deal with the edge case row blocks\n",
      "                else:\n",
      "                    start_x, end_x = i*step_x, im.shape[0]\n",
      "                # set starting and ending indices for vertical blocks\n",
      "                if j < (num_blocks-1):\n",
      "                    start_y, end_y = j*step_y, (j+1)*step_y\n",
      "                # deal with the edge case vertical blocks\n",
      "                else:\n",
      "                    start_y, end_y = j*step_y, im.shape[1]    \n",
      "                #copy image into block\n",
      "                im_block = im[start_x:end_x, start_y:end_y,:].copy()\n",
      "                hue_hist = cv2.calcHist([im_block],[0],None,[180],[0,180])\n",
      "                hists[(start_x, end_x, start_y, end_y)] = hue_hist\n",
      "    return hists\n",
      "\n",
      "def HUEhist_pretty(image_path, num_zones = 1):\n",
      "    hists = HUEhist_cv(image_path, num_zones)\n",
      "    features = []\n",
      "    for key in sorted(hists.keys()):\n",
      "        l = hists[key]\n",
      "        ## flatten list of lists (list of histogram lists)\n",
      "        features.append([item for sublist in l for item in sublist])\n",
      "    return [item for sublist in features for item in sublist]"
     ],
     "language": "python",
     "metadata": {},
     "outputs": []
    },
    {
     "cell_type": "code",
     "collapsed": false,
     "input": [
      "def chunks(l, n):\n",
      "    \"\"\" Yield successive n-sized chunks from l.\n",
      "    \"\"\"\n",
      "    for i in xrange(0, len(l), n):\n",
      "        yield l[i:i+n]\n"
     ],
     "language": "python",
     "metadata": {},
     "outputs": []
    },
    {
     "cell_type": "code",
     "collapsed": false,
     "input": [
      "chunk_size = 50\n",
      "print \"number of images is\", len(image_paths)\n",
      "image_paths_chunks = list(chunks(image_paths, chunk_size))\n",
      "print \"number of chunks is\", len(image_paths_chunks)"
     ],
     "language": "python",
     "metadata": {},
     "outputs": []
    },
    {
     "cell_type": "code",
     "collapsed": false,
     "input": [
      "def get_HSV_hist_chunks(image_paths_chunk):\n",
      "    return [[image_path, HSVhist_pretty(image_path, 3, 2)] for image_path in image_paths_chunk]"
     ],
     "language": "python",
     "metadata": {},
     "outputs": []
    },
    {
     "cell_type": "code",
     "collapsed": false,
     "input": [
      "csvfile = open(\"output_VAL_ZONES_3__ALL_DAYS_SD.csv\", \"a\")\n",
      "resultswrtier = csv.writer(csvfile, delimiter = \",\")"
     ],
     "language": "python",
     "metadata": {},
     "outputs": []
    },
    {
     "cell_type": "code",
     "collapsed": false,
     "input": [
      "def write_to_file(res):\n",
      "    for r in res:\n",
      "        try:\n",
      "            row = [r[0]]\n",
      "            temp = [float(hist_val) for hist_val in r[1]]\n",
      "            row.extend(temp)\n",
      "            resultswrtier.writerow(row)\n",
      "        except:\n",
      "            print r[0],\"failed\" "
     ],
     "language": "python",
     "metadata": {},
     "outputs": []
    },
    {
     "cell_type": "code",
     "collapsed": false,
     "input": [
      "for i, image_paths_chunk in enumerate(image_paths_chunks):\n",
      "    print \"chunk\", i\n",
      "    result = get_HSV_hist_chunks(image_paths_chunk)\n",
      "    write_to_file(result)\n",
      "\n",
      "csvfile.close()"
     ],
     "language": "python",
     "metadata": {},
     "outputs": []
    },
    {
     "cell_type": "code",
     "collapsed": false,
     "input": [],
     "language": "python",
     "metadata": {},
     "outputs": []
    }
   ],
   "metadata": {}
  }
 ]
}