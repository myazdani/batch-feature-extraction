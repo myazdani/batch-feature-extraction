{
 "metadata": {
  "name": "",
  "signature": "sha256:8d0333022080a8e45ee40b16215b3417d5726930a76165c7f1b474dde5bd541a"
 },
 "nbformat": 3,
 "nbformat_minor": 0,
 "worksheets": [
  {
   "cells": [
    {
     "cell_type": "code",
     "collapsed": false,
     "input": [
      "import os\n",
      "import cv2\n",
      "import csv\n",
      "from pylab import *\n",
      "import scipy\n",
      "import scipy.misc\n",
      "from PIL import Image\n",
      "from skimage.util.shape import view_as_blocks, view_as_windows\n",
      "#from joblib import Parallel, delayed\n",
      "import numpy as np\n",
      "from scipy import stats\n",
      "import cPickle as pickle\n",
      "%matplotlib inline"
     ],
     "language": "python",
     "metadata": {},
     "outputs": [],
     "prompt_number": 1
    },
    {
     "cell_type": "code",
     "collapsed": false,
     "input": [
      "src_path, image_type = \"/Users/myazdaniUCSD/Documents/zappos50k/ut-zap50k-images/\", \".jpg\"\n",
      "image_paths = []\n",
      "for root, dirs, files in os.walk(src_path):\n",
      "    image_paths.extend([os.path.join(root, f) for f in files if f.endswith(image_type)])"
     ],
     "language": "python",
     "metadata": {},
     "outputs": [],
     "prompt_number": 2
    },
    {
     "cell_type": "code",
     "collapsed": false,
     "input": [
      "num_zones = 1 # 1 = entire images\n",
      "channel = 0 # 0 = Hue, 1 = Saturation, 2 = Value"
     ],
     "language": "python",
     "metadata": {},
     "outputs": []
    },
    {
     "cell_type": "code",
     "collapsed": false,
     "input": [
      "def HSVhist_cv(im_path, num_blocks, channels = range(3)):\n",
      "    # read image\n",
      "    im = cv2.imread(im_path)\n",
      "    im = cv2.cvtColor(im, cv2.COLOR_BGR2HSV)\n",
      "    if str(type(im)) == \"<type 'NoneType'>\":\n",
      "        return None\n",
      "    # set block step sizes\n",
      "    step_x = im.shape[0]/num_blocks\n",
      "    step_y = im.shape[1]/num_blocks\n",
      "    hists = {}\n",
      "    for i in range(num_blocks):\n",
      "            for j in range(num_blocks):\n",
      "                # set starting and ending indices for row blocks\n",
      "                if i < (num_blocks-1): \n",
      "                    start_x, end_x = i*step_x, (i+1)*step_x\n",
      "                # deal with the edge case row blocks\n",
      "                else:\n",
      "                    start_x, end_x = i*step_x, im.shape[0]\n",
      "                # set starting and ending indices for vertical blocks\n",
      "                if j < (num_blocks-1):\n",
      "                    start_y, end_y = j*step_y, (j+1)*step_y\n",
      "                # deal with the edge case vertical blocks\n",
      "                else:\n",
      "                    start_y, end_y = j*step_y, im.shape[1]    \n",
      "                #copy image into block\n",
      "                im_block = im[start_x:end_x, start_y:end_y,:].copy()\n",
      "                hist_channels = []\n",
      "                if type(channels) == int:\n",
      "                    if channels == 0:\n",
      "                        hist_temp = cv2.calcHist([im_block],[channels],None,[180],[0,180])\n",
      "                        hist_channels.append(hist_temp/(max(hist_temp)+1.0))\n",
      "                    else:\n",
      "                        hist_temp = cv2.calcHist([im_block],[channels],None,[256],[0,256])\n",
      "                        hist_channels.append(hist_temp/(max(hist_temp)+1.0))   \n",
      "                else:                   \n",
      "                    for channel in channels: \n",
      "                        if channel == 0:\n",
      "                            hist_temp = cv2.calcHist([im_block],[channel],None,[180],[0,180])\n",
      "                            hist_channels.append(hist_temp/(max(hist_temp)+1.0))\n",
      "                        else:\n",
      "                            hist_temp = cv2.calcHist([im_block],[channel],None,[256],[0,256])\n",
      "                            hist_channels.append(hist_temp/(max(hist_temp)+1.0))\n",
      "                hists[(start_x, end_x, start_y, end_y)] = hist_channels\n",
      "    return hists\n",
      "\n",
      "def HSVhist_pretty(image_path, num_zones = 1, channels = range(3)):\n",
      "    hists = HSVhist_cv(image_path, num_zones, channels)\n",
      "    features = []\n",
      "    for key in sorted(hists.keys()):\n",
      "        l = hists[key]\n",
      "        ## flatten list of lists (list of histogram lists)\n",
      "        features.append([item for sublist in l for item in sublist])\n",
      "    return [item for sublist in features for item in sublist]"
     ],
     "language": "python",
     "metadata": {},
     "outputs": [],
     "prompt_number": 3
    },
    {
     "cell_type": "code",
     "collapsed": false,
     "input": [
      "def HUEhist_cv(im_path, num_blocks):\n",
      "    # read image\n",
      "    im = cv2.imread(im_path)\n",
      "    im = cv2.cvtColor(im, cv2.COLOR_BGR2HSV)\n",
      "    if str(type(im)) == \"<type 'NoneType'>\":\n",
      "        return None\n",
      "    # set block step sizes\n",
      "    step_x = im.shape[0]/num_blocks\n",
      "    step_y = im.shape[1]/num_blocks\n",
      "    hists = {}\n",
      "    for i in range(num_blocks):\n",
      "            for j in range(num_blocks):\n",
      "                # set starting and ending indices for row blocks\n",
      "                if i < (num_blocks-1): \n",
      "                    start_x, end_x = i*step_x, (i+1)*step_x\n",
      "                # deal with the edge case row blocks\n",
      "                else:\n",
      "                    start_x, end_x = i*step_x, im.shape[0]\n",
      "                # set starting and ending indices for vertical blocks\n",
      "                if j < (num_blocks-1):\n",
      "                    start_y, end_y = j*step_y, (j+1)*step_y\n",
      "                # deal with the edge case vertical blocks\n",
      "                else:\n",
      "                    start_y, end_y = j*step_y, im.shape[1]    \n",
      "                #copy image into block\n",
      "                im_block = im[start_x:end_x, start_y:end_y,:].copy()\n",
      "                hue_hist = cv2.calcHist([im_block],[0],None,[180],[0,180])\n",
      "                hists[(start_x, end_x, start_y, end_y)] = hue_hist\n",
      "    return hists\n",
      "\n",
      "def HUEhist_pretty(image_path, num_zones = 1):\n",
      "    hists = HUEhist_cv(image_path, num_zones)\n",
      "    features = []\n",
      "    for key in sorted(hists.keys()):\n",
      "        l = hists[key]\n",
      "        ## flatten list of lists (list of histogram lists)\n",
      "        features.append([item for sublist in l for item in sublist])\n",
      "    return [item for sublist in features for item in sublist]"
     ],
     "language": "python",
     "metadata": {},
     "outputs": [],
     "prompt_number": 4
    },
    {
     "cell_type": "code",
     "collapsed": false,
     "input": [
      "def chunks(l, n):\n",
      "    \"\"\" Yield successive n-sized chunks from l.\n",
      "    \"\"\"\n",
      "    for i in xrange(0, len(l), n):\n",
      "        yield l[i:i+n]\n"
     ],
     "language": "python",
     "metadata": {},
     "outputs": [],
     "prompt_number": 5
    },
    {
     "cell_type": "code",
     "collapsed": false,
     "input": [
      "chunk_size = 50\n",
      "print \"number of images is\", len(image_paths)\n",
      "image_paths_chunks = list(chunks(image_paths, chunk_size))\n",
      "print \"number of chunks is\", len(image_paths_chunks)"
     ],
     "language": "python",
     "metadata": {},
     "outputs": [
      {
       "output_type": "stream",
       "stream": "stdout",
       "text": [
        "number of images is 50025\n",
        "number of chunks is 1001\n"
       ]
      }
     ],
     "prompt_number": 6
    },
    {
     "cell_type": "code",
     "collapsed": false,
     "input": [
      "def get_HSV_hist_chunks(image_paths_chunk):\n",
      "    return [[image_path, HSVhist_pretty(image_path, num_zones, channel)] for image_path in image_paths_chunk]"
     ],
     "language": "python",
     "metadata": {},
     "outputs": [],
     "prompt_number": 7
    },
    {
     "cell_type": "code",
     "collapsed": false,
     "input": [
      "csvfile = open(\"output_HUE_ZONES_1.csv\", \"a\")\n",
      "resultswrtier = csv.writer(csvfile, delimiter = \",\")"
     ],
     "language": "python",
     "metadata": {},
     "outputs": [],
     "prompt_number": 8
    },
    {
     "cell_type": "code",
     "collapsed": false,
     "input": [
      "def write_to_file(res):\n",
      "    for r in res:\n",
      "        try:\n",
      "            row = [r[0]]\n",
      "            temp = [float(hist_val) for hist_val in r[1]]\n",
      "            row.extend(temp)\n",
      "            resultswrtier.writerow(row)\n",
      "        except:\n",
      "            print r[0],\"failed\" "
     ],
     "language": "python",
     "metadata": {},
     "outputs": [],
     "prompt_number": 9
    },
    {
     "cell_type": "code",
     "collapsed": false,
     "input": [
      "for i, image_paths_chunk in enumerate(image_paths_chunks):\n",
      "    print \"chunk\", i\n",
      "    result = get_HSV_hist_chunks(image_paths_chunk)\n",
      "    write_to_file(result)\n",
      "\n",
      "csvfile.close()"
     ],
     "language": "python",
     "metadata": {},
     "outputs": [
      {
       "output_type": "stream",
       "stream": "stdout",
       "text": [
        "chunk 0\n",
        "chunk 1\n",
        "chunk"
       ]
      },
      {
       "output_type": "stream",
       "stream": "stdout",
       "text": [
        " 2\n",
        "chunk 3\n",
        "chunk"
       ]
      },
      {
       "output_type": "stream",
       "stream": "stdout",
       "text": [
        " 4\n",
        "chunk 5\n",
        "chunk"
       ]
      },
      {
       "output_type": "stream",
       "stream": "stdout",
       "text": [
        " 6\n",
        "chunk 7\n",
        "chunk"
       ]
      },
      {
       "output_type": "stream",
       "stream": "stdout",
       "text": [
        " 8\n",
        "chunk 9\n",
        "chunk"
       ]
      },
      {
       "output_type": "stream",
       "stream": "stdout",
       "text": [
        " 10\n",
        "chunk 11\n",
        "chunk"
       ]
      },
      {
       "output_type": "stream",
       "stream": "stdout",
       "text": [
        " 12\n",
        "chunk 13\n",
        "chunk"
       ]
      },
      {
       "output_type": "stream",
       "stream": "stdout",
       "text": [
        " 14\n",
        "chunk 15\n",
        "chunk"
       ]
      },
      {
       "output_type": "stream",
       "stream": "stdout",
       "text": [
        " 16\n",
        "chunk 17\n",
        "chunk"
       ]
      },
      {
       "output_type": "stream",
       "stream": "stdout",
       "text": [
        " 18\n",
        "chunk 19\n",
        "chunk"
       ]
      },
      {
       "output_type": "stream",
       "stream": "stdout",
       "text": [
        " 20\n",
        "chunk 21\n",
        "chunk"
       ]
      },
      {
       "output_type": "stream",
       "stream": "stdout",
       "text": [
        " 22\n",
        "chunk 23\n",
        "chunk"
       ]
      },
      {
       "output_type": "stream",
       "stream": "stdout",
       "text": [
        " 24\n",
        "chunk 25\n",
        "chunk"
       ]
      },
      {
       "output_type": "stream",
       "stream": "stdout",
       "text": [
        " 26\n",
        "chunk 27\n",
        "chunk"
       ]
      },
      {
       "output_type": "stream",
       "stream": "stdout",
       "text": [
        " 28\n",
        "chunk 29\n",
        "chunk"
       ]
      },
      {
       "output_type": "stream",
       "stream": "stdout",
       "text": [
        " 30\n",
        "chunk 31\n",
        "chunk"
       ]
      },
      {
       "output_type": "stream",
       "stream": "stdout",
       "text": [
        " 32\n",
        "chunk 33\n",
        "chunk"
       ]
      },
      {
       "output_type": "stream",
       "stream": "stdout",
       "text": [
        " 34\n",
        "chunk 35\n",
        "chunk"
       ]
      },
      {
       "output_type": "stream",
       "stream": "stdout",
       "text": [
        " 36\n",
        "chunk 37\n",
        "chunk"
       ]
      },
      {
       "output_type": "stream",
       "stream": "stdout",
       "text": [
        " 38\n",
        "chunk 39\n",
        "chunk"
       ]
      },
      {
       "output_type": "stream",
       "stream": "stdout",
       "text": [
        " 40\n",
        "chunk 41\n",
        "chunk"
       ]
      },
      {
       "output_type": "stream",
       "stream": "stdout",
       "text": [
        " 42\n",
        "chunk 43\n",
        "chunk"
       ]
      },
      {
       "output_type": "stream",
       "stream": "stdout",
       "text": [
        " 44\n",
        "chunk 45\n",
        "chunk"
       ]
      },
      {
       "output_type": "stream",
       "stream": "stdout",
       "text": [
        " 46\n",
        "chunk 47\n",
        "chunk"
       ]
      },
      {
       "output_type": "stream",
       "stream": "stdout",
       "text": [
        " 48\n",
        "chunk 49\n",
        "chunk"
       ]
      },
      {
       "output_type": "stream",
       "stream": "stdout",
       "text": [
        " 50\n",
        "chunk 51\n",
        "chunk"
       ]
      },
      {
       "output_type": "stream",
       "stream": "stdout",
       "text": [
        " 52\n",
        "chunk 53\n",
        "chunk"
       ]
      },
      {
       "output_type": "stream",
       "stream": "stdout",
       "text": [
        " 54\n",
        "chunk 55\n",
        "chunk"
       ]
      },
      {
       "output_type": "stream",
       "stream": "stdout",
       "text": [
        " 56\n",
        "chunk 57\n",
        "chunk"
       ]
      },
      {
       "output_type": "stream",
       "stream": "stdout",
       "text": [
        " 58\n",
        "chunk 59\n",
        "chunk"
       ]
      },
      {
       "output_type": "stream",
       "stream": "stdout",
       "text": [
        " 60\n",
        "chunk 61\n",
        "chunk"
       ]
      },
      {
       "output_type": "stream",
       "stream": "stdout",
       "text": [
        " 62\n",
        "chunk 63\n",
        "chunk"
       ]
      },
      {
       "output_type": "stream",
       "stream": "stdout",
       "text": [
        " 64\n",
        "chunk 65\n",
        "chunk"
       ]
      },
      {
       "output_type": "stream",
       "stream": "stdout",
       "text": [
        " 66\n",
        "chunk 67\n",
        "chunk"
       ]
      },
      {
       "output_type": "stream",
       "stream": "stdout",
       "text": [
        " 68\n",
        "chunk 69\n",
        "chunk"
       ]
      },
      {
       "output_type": "stream",
       "stream": "stdout",
       "text": [
        " 70\n",
        "chunk 71\n",
        "chunk"
       ]
      },
      {
       "output_type": "stream",
       "stream": "stdout",
       "text": [
        " 72\n",
        "chunk 73\n",
        "chunk"
       ]
      },
      {
       "output_type": "stream",
       "stream": "stdout",
       "text": [
        " 74\n",
        "chunk 75\n",
        "chunk"
       ]
      },
      {
       "output_type": "stream",
       "stream": "stdout",
       "text": [
        " 76\n",
        "chunk 77\n",
        "chunk"
       ]
      },
      {
       "output_type": "stream",
       "stream": "stdout",
       "text": [
        " 78\n",
        "chunk 79\n",
        "chunk"
       ]
      },
      {
       "output_type": "stream",
       "stream": "stdout",
       "text": [
        " 80\n",
        "chunk 81\n",
        "chunk"
       ]
      },
      {
       "output_type": "stream",
       "stream": "stdout",
       "text": [
        " 82\n",
        "chunk 83\n",
        "chunk"
       ]
      },
      {
       "output_type": "stream",
       "stream": "stdout",
       "text": [
        " 84\n",
        "chunk 85\n",
        "chunk"
       ]
      },
      {
       "output_type": "stream",
       "stream": "stdout",
       "text": [
        " 86\n",
        "chunk 87\n",
        "chunk"
       ]
      },
      {
       "output_type": "stream",
       "stream": "stdout",
       "text": [
        " 88\n",
        "chunk 89\n",
        "chunk"
       ]
      },
      {
       "output_type": "stream",
       "stream": "stdout",
       "text": [
        " 90\n",
        "chunk 91\n",
        "chunk"
       ]
      },
      {
       "output_type": "stream",
       "stream": "stdout",
       "text": [
        " 92\n",
        "chunk 93\n",
        "chunk"
       ]
      },
      {
       "output_type": "stream",
       "stream": "stdout",
       "text": [
        " 94\n",
        "chunk 95\n",
        "chunk"
       ]
      },
      {
       "output_type": "stream",
       "stream": "stdout",
       "text": [
        " 96\n",
        "chunk 97\n",
        "chunk"
       ]
      },
      {
       "output_type": "stream",
       "stream": "stdout",
       "text": [
        " 98\n",
        "chunk 99\n",
        "chunk"
       ]
      },
      {
       "output_type": "stream",
       "stream": "stdout",
       "text": [
        " 100\n",
        "chunk 101\n",
        "chunk"
       ]
      },
      {
       "output_type": "stream",
       "stream": "stdout",
       "text": [
        " 102\n",
        "chunk 103\n",
        "chunk"
       ]
      },
      {
       "output_type": "stream",
       "stream": "stdout",
       "text": [
        " 104\n",
        "chunk 105\n",
        "chunk"
       ]
      },
      {
       "output_type": "stream",
       "stream": "stdout",
       "text": [
        " 106\n",
        "chunk 107\n",
        "chunk"
       ]
      },
      {
       "output_type": "stream",
       "stream": "stdout",
       "text": [
        " 108\n",
        "chunk 109\n",
        "chunk"
       ]
      },
      {
       "output_type": "stream",
       "stream": "stdout",
       "text": [
        " 110\n",
        "chunk 111\n",
        "chunk"
       ]
      },
      {
       "output_type": "stream",
       "stream": "stdout",
       "text": [
        " 112\n",
        "chunk 113\n",
        "chunk"
       ]
      },
      {
       "output_type": "stream",
       "stream": "stdout",
       "text": [
        " 114\n",
        "chunk 115\n",
        "chunk"
       ]
      },
      {
       "output_type": "stream",
       "stream": "stdout",
       "text": [
        " 116\n",
        "chunk 117\n",
        "chunk"
       ]
      },
      {
       "output_type": "stream",
       "stream": "stdout",
       "text": [
        " 118\n",
        "chunk 119\n",
        "chunk"
       ]
      },
      {
       "output_type": "stream",
       "stream": "stdout",
       "text": [
        " 120\n",
        "chunk 121\n",
        "chunk"
       ]
      },
      {
       "output_type": "stream",
       "stream": "stdout",
       "text": [
        " 122\n",
        "chunk 123\n",
        "chunk"
       ]
      },
      {
       "output_type": "stream",
       "stream": "stdout",
       "text": [
        " 124\n",
        "chunk 125\n",
        "chunk"
       ]
      },
      {
       "output_type": "stream",
       "stream": "stdout",
       "text": [
        " 126\n",
        "chunk 127\n",
        "chunk"
       ]
      },
      {
       "output_type": "stream",
       "stream": "stdout",
       "text": [
        " 128\n",
        "chunk 129\n",
        "chunk"
       ]
      },
      {
       "output_type": "stream",
       "stream": "stdout",
       "text": [
        " 130\n",
        "chunk 131\n",
        "chunk"
       ]
      },
      {
       "output_type": "stream",
       "stream": "stdout",
       "text": [
        " 132\n",
        "chunk 133\n",
        "chunk"
       ]
      },
      {
       "output_type": "stream",
       "stream": "stdout",
       "text": [
        " 134\n",
        "chunk 135\n",
        "chunk"
       ]
      },
      {
       "output_type": "stream",
       "stream": "stdout",
       "text": [
        " 136\n",
        "chunk 137\n",
        "chunk"
       ]
      },
      {
       "output_type": "stream",
       "stream": "stdout",
       "text": [
        " 138\n",
        "chunk 139\n",
        "chunk"
       ]
      },
      {
       "output_type": "stream",
       "stream": "stdout",
       "text": [
        " 140\n",
        "chunk 141\n",
        "chunk"
       ]
      },
      {
       "output_type": "stream",
       "stream": "stdout",
       "text": [
        " 142\n",
        "chunk"
       ]
      },
      {
       "output_type": "stream",
       "stream": "stdout",
       "text": [
        " 143\n",
        "chunk 144\n",
        "chunk"
       ]
      },
      {
       "output_type": "stream",
       "stream": "stdout",
       "text": [
        " 145\n",
        "chunk"
       ]
      },
      {
       "output_type": "stream",
       "stream": "stdout",
       "text": [
        " 146\n",
        "chunk 147\n",
        "chunk"
       ]
      },
      {
       "output_type": "stream",
       "stream": "stdout",
       "text": [
        " 148\n",
        "chunk 149\n",
        "chunk"
       ]
      },
      {
       "output_type": "stream",
       "stream": "stdout",
       "text": [
        " 150\n",
        "chunk 151\n",
        "chunk"
       ]
      },
      {
       "output_type": "stream",
       "stream": "stdout",
       "text": [
        " 152\n",
        "chunk 153\n",
        "chunk"
       ]
      },
      {
       "output_type": "stream",
       "stream": "stdout",
       "text": [
        " 154\n",
        "chunk 155\n",
        "chunk"
       ]
      },
      {
       "output_type": "stream",
       "stream": "stdout",
       "text": [
        " 156\n",
        "chunk 157\n",
        "chunk"
       ]
      },
      {
       "output_type": "stream",
       "stream": "stdout",
       "text": [
        " 158\n",
        "chunk 159\n",
        "chunk"
       ]
      },
      {
       "output_type": "stream",
       "stream": "stdout",
       "text": [
        " 160\n",
        "chunk 161\n",
        "chunk"
       ]
      },
      {
       "output_type": "stream",
       "stream": "stdout",
       "text": [
        " 162\n",
        "chunk"
       ]
      },
      {
       "output_type": "stream",
       "stream": "stdout",
       "text": [
        " 163\n",
        "chunk"
       ]
      },
      {
       "output_type": "stream",
       "stream": "stdout",
       "text": [
        " 164\n",
        "chunk"
       ]
      },
      {
       "output_type": "stream",
       "stream": "stdout",
       "text": [
        " 165\n",
        "chunk"
       ]
      },
      {
       "output_type": "stream",
       "stream": "stdout",
       "text": [
        " 166\n",
        "chunk"
       ]
      },
      {
       "output_type": "stream",
       "stream": "stdout",
       "text": [
        " 167\n",
        "chunk"
       ]
      },
      {
       "output_type": "stream",
       "stream": "stdout",
       "text": [
        " 168\n",
        "chunk"
       ]
      },
      {
       "output_type": "stream",
       "stream": "stdout",
       "text": [
        " 169\n",
        "chunk"
       ]
      },
      {
       "output_type": "stream",
       "stream": "stdout",
       "text": [
        " 170\n",
        "chunk"
       ]
      },
      {
       "output_type": "stream",
       "stream": "stdout",
       "text": [
        " 171\n",
        "chunk"
       ]
      },
      {
       "output_type": "stream",
       "stream": "stdout",
       "text": [
        " 172\n",
        "chunk"
       ]
      },
      {
       "output_type": "stream",
       "stream": "stdout",
       "text": [
        " 173\n",
        "chunk"
       ]
      },
      {
       "output_type": "stream",
       "stream": "stdout",
       "text": [
        " 174\n",
        "chunk"
       ]
      },
      {
       "output_type": "stream",
       "stream": "stdout",
       "text": [
        " 175\n",
        "chunk"
       ]
      },
      {
       "output_type": "stream",
       "stream": "stdout",
       "text": [
        " 176\n",
        "chunk"
       ]
      },
      {
       "output_type": "stream",
       "stream": "stdout",
       "text": [
        " 177\n",
        "chunk"
       ]
      },
      {
       "output_type": "stream",
       "stream": "stdout",
       "text": [
        " 178\n",
        "chunk"
       ]
      },
      {
       "output_type": "stream",
       "stream": "stdout",
       "text": [
        " 179\n",
        "chunk"
       ]
      },
      {
       "output_type": "stream",
       "stream": "stdout",
       "text": [
        " 180\n",
        "chunk"
       ]
      },
      {
       "output_type": "stream",
       "stream": "stdout",
       "text": [
        " 181\n",
        "chunk"
       ]
      },
      {
       "output_type": "stream",
       "stream": "stdout",
       "text": [
        " 182\n",
        "chunk"
       ]
      },
      {
       "output_type": "stream",
       "stream": "stdout",
       "text": [
        " 183\n",
        "chunk"
       ]
      },
      {
       "output_type": "stream",
       "stream": "stdout",
       "text": [
        " 184\n",
        "chunk"
       ]
      },
      {
       "output_type": "stream",
       "stream": "stdout",
       "text": [
        " 185\n",
        "chunk"
       ]
      },
      {
       "output_type": "stream",
       "stream": "stdout",
       "text": [
        " 186\n",
        "chunk"
       ]
      },
      {
       "output_type": "stream",
       "stream": "stdout",
       "text": [
        " 187\n",
        "chunk"
       ]
      },
      {
       "output_type": "stream",
       "stream": "stdout",
       "text": [
        " 188\n",
        "chunk"
       ]
      },
      {
       "output_type": "stream",
       "stream": "stdout",
       "text": [
        " 189\n",
        "chunk"
       ]
      },
      {
       "output_type": "stream",
       "stream": "stdout",
       "text": [
        " 190\n",
        "chunk"
       ]
      },
      {
       "output_type": "stream",
       "stream": "stdout",
       "text": [
        " 191\n",
        "chunk"
       ]
      },
      {
       "output_type": "stream",
       "stream": "stdout",
       "text": [
        " 192\n",
        "chunk"
       ]
      },
      {
       "output_type": "stream",
       "stream": "stdout",
       "text": [
        " 193\n",
        "chunk"
       ]
      },
      {
       "output_type": "stream",
       "stream": "stdout",
       "text": [
        " 194\n",
        "chunk"
       ]
      },
      {
       "output_type": "stream",
       "stream": "stdout",
       "text": [
        " 195\n",
        "chunk"
       ]
      },
      {
       "output_type": "stream",
       "stream": "stdout",
       "text": [
        " 196\n",
        "chunk"
       ]
      },
      {
       "output_type": "stream",
       "stream": "stdout",
       "text": [
        " 197\n",
        "chunk"
       ]
      },
      {
       "output_type": "stream",
       "stream": "stdout",
       "text": [
        " 198\n",
        "chunk"
       ]
      },
      {
       "output_type": "stream",
       "stream": "stdout",
       "text": [
        " 199\n",
        "chunk"
       ]
      },
      {
       "output_type": "stream",
       "stream": "stdout",
       "text": [
        " 200\n",
        "chunk"
       ]
      },
      {
       "output_type": "stream",
       "stream": "stdout",
       "text": [
        " 201\n",
        "chunk"
       ]
      },
      {
       "output_type": "stream",
       "stream": "stdout",
       "text": [
        " 202\n",
        "chunk"
       ]
      },
      {
       "output_type": "stream",
       "stream": "stdout",
       "text": [
        " 203\n",
        "chunk"
       ]
      },
      {
       "output_type": "stream",
       "stream": "stdout",
       "text": [
        " 204\n",
        "chunk"
       ]
      },
      {
       "output_type": "stream",
       "stream": "stdout",
       "text": [
        " 205\n",
        "chunk"
       ]
      },
      {
       "output_type": "stream",
       "stream": "stdout",
       "text": [
        " 206\n",
        "chunk"
       ]
      },
      {
       "output_type": "stream",
       "stream": "stdout",
       "text": [
        " 207\n",
        "chunk"
       ]
      },
      {
       "output_type": "stream",
       "stream": "stdout",
       "text": [
        " 208\n",
        "chunk"
       ]
      },
      {
       "output_type": "stream",
       "stream": "stdout",
       "text": [
        " 209\n",
        "chunk"
       ]
      },
      {
       "output_type": "stream",
       "stream": "stdout",
       "text": [
        " 210\n",
        "chunk"
       ]
      },
      {
       "output_type": "stream",
       "stream": "stdout",
       "text": [
        " 211\n",
        "chunk"
       ]
      },
      {
       "output_type": "stream",
       "stream": "stdout",
       "text": [
        " 212\n",
        "chunk"
       ]
      },
      {
       "output_type": "stream",
       "stream": "stdout",
       "text": [
        " 213\n",
        "chunk"
       ]
      },
      {
       "output_type": "stream",
       "stream": "stdout",
       "text": [
        " 214\n",
        "chunk 215\n",
        "chunk"
       ]
      },
      {
       "output_type": "stream",
       "stream": "stdout",
       "text": [
        " 216\n",
        "chunk"
       ]
      },
      {
       "output_type": "stream",
       "stream": "stdout",
       "text": [
        " 217\n",
        "chunk 218\n",
        "chunk"
       ]
      },
      {
       "output_type": "stream",
       "stream": "stdout",
       "text": [
        " 219\n",
        "chunk 220\n",
        "chunk"
       ]
      },
      {
       "output_type": "stream",
       "stream": "stdout",
       "text": [
        " 221\n",
        "chunk"
       ]
      },
      {
       "output_type": "stream",
       "stream": "stdout",
       "text": [
        " 222\n",
        "chunk 223\n",
        "chunk"
       ]
      },
      {
       "output_type": "stream",
       "stream": "stdout",
       "text": [
        " 224\n",
        "chunk"
       ]
      },
      {
       "output_type": "stream",
       "stream": "stdout",
       "text": [
        " 225\n",
        "chunk"
       ]
      },
      {
       "output_type": "stream",
       "stream": "stdout",
       "text": [
        " 226\n",
        "chunk"
       ]
      },
      {
       "output_type": "stream",
       "stream": "stdout",
       "text": [
        " 227\n",
        "chunk 228\n",
        "chunk"
       ]
      },
      {
       "output_type": "stream",
       "stream": "stdout",
       "text": [
        " 229\n",
        "chunk 230\n",
        "chunk"
       ]
      },
      {
       "output_type": "stream",
       "stream": "stdout",
       "text": [
        " 231\n",
        "chunk 232\n",
        "chunk"
       ]
      },
      {
       "output_type": "stream",
       "stream": "stdout",
       "text": [
        " 233\n",
        "chunk 234\n",
        "chunk"
       ]
      },
      {
       "output_type": "stream",
       "stream": "stdout",
       "text": [
        " 235\n",
        "chunk 236\n",
        "chunk"
       ]
      },
      {
       "output_type": "stream",
       "stream": "stdout",
       "text": [
        " 237\n",
        "chunk 238\n",
        "chunk"
       ]
      },
      {
       "output_type": "stream",
       "stream": "stdout",
       "text": [
        " 239\n",
        "chunk 240\n",
        "chunk"
       ]
      },
      {
       "output_type": "stream",
       "stream": "stdout",
       "text": [
        " 241\n",
        "chunk 242\n",
        "chunk"
       ]
      },
      {
       "output_type": "stream",
       "stream": "stdout",
       "text": [
        " 243\n",
        "chunk 244\n",
        "chunk"
       ]
      },
      {
       "output_type": "stream",
       "stream": "stdout",
       "text": [
        " 245\n",
        "chunk 246\n",
        "chunk"
       ]
      },
      {
       "output_type": "stream",
       "stream": "stdout",
       "text": [
        " 247\n",
        "chunk 248\n",
        "chunk"
       ]
      },
      {
       "output_type": "stream",
       "stream": "stdout",
       "text": [
        " 249\n",
        "chunk 250\n",
        "chunk"
       ]
      },
      {
       "output_type": "stream",
       "stream": "stdout",
       "text": [
        " 251\n",
        "chunk 252\n",
        "chunk"
       ]
      },
      {
       "output_type": "stream",
       "stream": "stdout",
       "text": [
        " 253\n",
        "chunk 254\n",
        "chunk"
       ]
      },
      {
       "output_type": "stream",
       "stream": "stdout",
       "text": [
        " 255\n",
        "chunk 256\n",
        "chunk"
       ]
      },
      {
       "output_type": "stream",
       "stream": "stdout",
       "text": [
        " 257\n",
        "chunk 258\n",
        "chunk"
       ]
      },
      {
       "output_type": "stream",
       "stream": "stdout",
       "text": [
        " 259\n",
        "chunk 260\n",
        "chunk"
       ]
      },
      {
       "output_type": "stream",
       "stream": "stdout",
       "text": [
        " 261\n",
        "chunk 262\n",
        "chunk"
       ]
      },
      {
       "output_type": "stream",
       "stream": "stdout",
       "text": [
        " 263\n",
        "chunk 264\n",
        "chunk"
       ]
      },
      {
       "output_type": "stream",
       "stream": "stdout",
       "text": [
        " 265\n",
        "chunk 266\n",
        "chunk"
       ]
      },
      {
       "output_type": "stream",
       "stream": "stdout",
       "text": [
        " 267\n",
        "chunk 268\n",
        "chunk"
       ]
      },
      {
       "output_type": "stream",
       "stream": "stdout",
       "text": [
        " 269\n",
        "chunk 270\n",
        "chunk"
       ]
      },
      {
       "output_type": "stream",
       "stream": "stdout",
       "text": [
        " 271\n",
        "chunk 272\n",
        "chunk"
       ]
      },
      {
       "output_type": "stream",
       "stream": "stdout",
       "text": [
        " 273\n",
        "chunk 274\n",
        "chunk"
       ]
      },
      {
       "output_type": "stream",
       "stream": "stdout",
       "text": [
        " 275\n",
        "chunk 276\n",
        "chunk"
       ]
      },
      {
       "output_type": "stream",
       "stream": "stdout",
       "text": [
        " 277\n",
        "chunk 278\n",
        "chunk"
       ]
      },
      {
       "output_type": "stream",
       "stream": "stdout",
       "text": [
        " 279\n",
        "chunk 280\n",
        "chunk"
       ]
      },
      {
       "output_type": "stream",
       "stream": "stdout",
       "text": [
        " 281\n",
        "chunk 282\n",
        "chunk"
       ]
      },
      {
       "output_type": "stream",
       "stream": "stdout",
       "text": [
        " 283\n",
        "chunk 284\n",
        "chunk"
       ]
      },
      {
       "output_type": "stream",
       "stream": "stdout",
       "text": [
        " 285\n",
        "chunk 286\n",
        "chunk"
       ]
      },
      {
       "output_type": "stream",
       "stream": "stdout",
       "text": [
        " 287\n",
        "chunk 288\n",
        "chunk"
       ]
      },
      {
       "output_type": "stream",
       "stream": "stdout",
       "text": [
        " 289\n",
        "chunk 290\n",
        "chunk"
       ]
      },
      {
       "output_type": "stream",
       "stream": "stdout",
       "text": [
        " 291\n",
        "chunk 292\n",
        "chunk"
       ]
      },
      {
       "output_type": "stream",
       "stream": "stdout",
       "text": [
        " 293\n",
        "chunk 294\n",
        "chunk"
       ]
      },
      {
       "output_type": "stream",
       "stream": "stdout",
       "text": [
        " 295\n",
        "chunk 296\n",
        "chunk"
       ]
      },
      {
       "output_type": "stream",
       "stream": "stdout",
       "text": [
        " 297\n",
        "chunk 298\n",
        "chunk"
       ]
      },
      {
       "output_type": "stream",
       "stream": "stdout",
       "text": [
        " 299\n",
        "chunk 300\n",
        "chunk"
       ]
      },
      {
       "output_type": "stream",
       "stream": "stdout",
       "text": [
        " 301\n",
        "chunk 302\n",
        "chunk"
       ]
      },
      {
       "output_type": "stream",
       "stream": "stdout",
       "text": [
        " 303\n",
        "chunk 304\n",
        "chunk"
       ]
      },
      {
       "output_type": "stream",
       "stream": "stdout",
       "text": [
        " 305\n",
        "chunk 306\n",
        "chunk"
       ]
      },
      {
       "output_type": "stream",
       "stream": "stdout",
       "text": [
        " 307\n",
        "chunk 308\n",
        "chunk"
       ]
      },
      {
       "output_type": "stream",
       "stream": "stdout",
       "text": [
        " 309\n",
        "chunk 310\n",
        "chunk"
       ]
      },
      {
       "output_type": "stream",
       "stream": "stdout",
       "text": [
        " 311\n",
        "chunk 312\n",
        "chunk"
       ]
      },
      {
       "output_type": "stream",
       "stream": "stdout",
       "text": [
        " 313\n",
        "chunk 314\n",
        "chunk"
       ]
      },
      {
       "output_type": "stream",
       "stream": "stdout",
       "text": [
        " 315\n",
        "chunk 316\n",
        "chunk"
       ]
      },
      {
       "output_type": "stream",
       "stream": "stdout",
       "text": [
        " 317\n",
        "chunk 318\n",
        "chunk"
       ]
      },
      {
       "output_type": "stream",
       "stream": "stdout",
       "text": [
        " 319\n",
        "chunk 320\n",
        "chunk"
       ]
      },
      {
       "output_type": "stream",
       "stream": "stdout",
       "text": [
        " 321\n",
        "chunk 322\n",
        "chunk"
       ]
      },
      {
       "output_type": "stream",
       "stream": "stdout",
       "text": [
        " 323\n",
        "chunk 324\n",
        "chunk"
       ]
      },
      {
       "output_type": "stream",
       "stream": "stdout",
       "text": [
        " 325\n",
        "chunk 326\n",
        "chunk"
       ]
      },
      {
       "output_type": "stream",
       "stream": "stdout",
       "text": [
        " 327\n",
        "chunk 328\n",
        "chunk"
       ]
      },
      {
       "output_type": "stream",
       "stream": "stdout",
       "text": [
        " 329\n",
        "chunk 330\n",
        "chunk"
       ]
      },
      {
       "output_type": "stream",
       "stream": "stdout",
       "text": [
        " 331\n",
        "chunk 332\n",
        "chunk"
       ]
      },
      {
       "output_type": "stream",
       "stream": "stdout",
       "text": [
        " 333\n",
        "chunk 334\n",
        "chunk"
       ]
      },
      {
       "output_type": "stream",
       "stream": "stdout",
       "text": [
        " 335\n",
        "chunk 336\n",
        "chunk"
       ]
      },
      {
       "output_type": "stream",
       "stream": "stdout",
       "text": [
        " 337\n",
        "chunk 338\n",
        "chunk"
       ]
      },
      {
       "output_type": "stream",
       "stream": "stdout",
       "text": [
        " 339\n",
        "chunk 340\n",
        "chunk"
       ]
      },
      {
       "output_type": "stream",
       "stream": "stdout",
       "text": [
        " 341\n",
        "chunk 342\n",
        "chunk"
       ]
      },
      {
       "output_type": "stream",
       "stream": "stdout",
       "text": [
        " 343\n",
        "chunk 344\n",
        "chunk"
       ]
      },
      {
       "output_type": "stream",
       "stream": "stdout",
       "text": [
        " 345\n",
        "chunk 346\n",
        "chunk"
       ]
      },
      {
       "output_type": "stream",
       "stream": "stdout",
       "text": [
        " 347\n",
        "chunk 348\n",
        "chunk"
       ]
      },
      {
       "output_type": "stream",
       "stream": "stdout",
       "text": [
        " 349\n",
        "chunk 350\n",
        "chunk"
       ]
      },
      {
       "output_type": "stream",
       "stream": "stdout",
       "text": [
        " 351\n",
        "chunk 352\n",
        "chunk"
       ]
      },
      {
       "output_type": "stream",
       "stream": "stdout",
       "text": [
        " 353\n",
        "chunk 354\n",
        "chunk"
       ]
      },
      {
       "output_type": "stream",
       "stream": "stdout",
       "text": [
        " 355\n",
        "chunk 356\n",
        "chunk"
       ]
      },
      {
       "output_type": "stream",
       "stream": "stdout",
       "text": [
        " 357\n",
        "chunk 358\n",
        "chunk"
       ]
      },
      {
       "output_type": "stream",
       "stream": "stdout",
       "text": [
        " 359\n",
        "chunk 360\n",
        "chunk"
       ]
      },
      {
       "output_type": "stream",
       "stream": "stdout",
       "text": [
        " 361\n",
        "chunk 362\n",
        "chunk"
       ]
      },
      {
       "output_type": "stream",
       "stream": "stdout",
       "text": [
        " 363\n",
        "chunk 364\n",
        "chunk"
       ]
      },
      {
       "output_type": "stream",
       "stream": "stdout",
       "text": [
        " 365\n",
        "chunk 366\n",
        "chunk"
       ]
      },
      {
       "output_type": "stream",
       "stream": "stdout",
       "text": [
        " 367\n",
        "chunk 368\n",
        "chunk"
       ]
      },
      {
       "output_type": "stream",
       "stream": "stdout",
       "text": [
        " 369\n",
        "chunk 370\n",
        "chunk"
       ]
      },
      {
       "output_type": "stream",
       "stream": "stdout",
       "text": [
        " 371\n",
        "chunk 372\n",
        "chunk"
       ]
      },
      {
       "output_type": "stream",
       "stream": "stdout",
       "text": [
        " 373\n",
        "chunk 374\n",
        "chunk"
       ]
      },
      {
       "output_type": "stream",
       "stream": "stdout",
       "text": [
        " 375\n",
        "chunk 376\n",
        "chunk"
       ]
      },
      {
       "output_type": "stream",
       "stream": "stdout",
       "text": [
        " 377\n",
        "chunk 378\n",
        "chunk"
       ]
      },
      {
       "output_type": "stream",
       "stream": "stdout",
       "text": [
        " 379\n",
        "chunk 380\n",
        "chunk"
       ]
      },
      {
       "output_type": "stream",
       "stream": "stdout",
       "text": [
        " 381\n",
        "chunk 382\n",
        "chunk"
       ]
      },
      {
       "output_type": "stream",
       "stream": "stdout",
       "text": [
        " 383\n",
        "chunk 384\n",
        "chunk"
       ]
      },
      {
       "output_type": "stream",
       "stream": "stdout",
       "text": [
        " 385\n",
        "chunk 386\n",
        "chunk"
       ]
      },
      {
       "output_type": "stream",
       "stream": "stdout",
       "text": [
        " 387\n",
        "chunk 388\n",
        "chunk"
       ]
      },
      {
       "output_type": "stream",
       "stream": "stdout",
       "text": [
        " 389\n",
        "chunk 390\n",
        "chunk"
       ]
      },
      {
       "output_type": "stream",
       "stream": "stdout",
       "text": [
        " 391\n",
        "chunk 392\n",
        "chunk"
       ]
      },
      {
       "output_type": "stream",
       "stream": "stdout",
       "text": [
        " 393\n",
        "chunk 394\n",
        "chunk"
       ]
      },
      {
       "output_type": "stream",
       "stream": "stdout",
       "text": [
        " 395\n",
        "chunk 396\n",
        "chunk"
       ]
      },
      {
       "output_type": "stream",
       "stream": "stdout",
       "text": [
        " 397\n",
        "chunk 398\n",
        "chunk"
       ]
      },
      {
       "output_type": "stream",
       "stream": "stdout",
       "text": [
        " 399\n",
        "chunk 400\n",
        "chunk"
       ]
      },
      {
       "output_type": "stream",
       "stream": "stdout",
       "text": [
        " 401\n",
        "chunk 402\n",
        "chunk"
       ]
      },
      {
       "output_type": "stream",
       "stream": "stdout",
       "text": [
        " 403\n",
        "chunk 404\n",
        "chunk"
       ]
      },
      {
       "output_type": "stream",
       "stream": "stdout",
       "text": [
        " 405\n",
        "chunk 406\n",
        "chunk"
       ]
      },
      {
       "output_type": "stream",
       "stream": "stdout",
       "text": [
        " 407\n",
        "chunk 408\n",
        "chunk"
       ]
      },
      {
       "output_type": "stream",
       "stream": "stdout",
       "text": [
        " 409\n",
        "chunk 410\n",
        "chunk"
       ]
      },
      {
       "output_type": "stream",
       "stream": "stdout",
       "text": [
        " 411\n",
        "chunk 412\n",
        "chunk"
       ]
      },
      {
       "output_type": "stream",
       "stream": "stdout",
       "text": [
        " 413\n",
        "chunk 414\n",
        "chunk"
       ]
      },
      {
       "output_type": "stream",
       "stream": "stdout",
       "text": [
        " 415\n",
        "chunk 416\n",
        "chunk"
       ]
      },
      {
       "output_type": "stream",
       "stream": "stdout",
       "text": [
        " 417\n",
        "chunk 418\n",
        "chunk"
       ]
      },
      {
       "output_type": "stream",
       "stream": "stdout",
       "text": [
        " 419\n",
        "chunk 420\n",
        "chunk"
       ]
      },
      {
       "output_type": "stream",
       "stream": "stdout",
       "text": [
        " 421\n",
        "chunk 422\n",
        "chunk"
       ]
      },
      {
       "output_type": "stream",
       "stream": "stdout",
       "text": [
        " 423\n",
        "chunk 424\n",
        "chunk"
       ]
      },
      {
       "output_type": "stream",
       "stream": "stdout",
       "text": [
        " 425\n",
        "chunk 426\n",
        "chunk"
       ]
      },
      {
       "output_type": "stream",
       "stream": "stdout",
       "text": [
        " 427\n",
        "chunk 428\n",
        "chunk"
       ]
      },
      {
       "output_type": "stream",
       "stream": "stdout",
       "text": [
        " 429\n",
        "chunk 430\n",
        "chunk"
       ]
      },
      {
       "output_type": "stream",
       "stream": "stdout",
       "text": [
        " 431\n",
        "chunk 432\n",
        "chunk"
       ]
      },
      {
       "output_type": "stream",
       "stream": "stdout",
       "text": [
        " 433\n",
        "chunk 434\n",
        "chunk"
       ]
      },
      {
       "output_type": "stream",
       "stream": "stdout",
       "text": [
        " 435\n",
        "chunk 436\n",
        "chunk"
       ]
      },
      {
       "output_type": "stream",
       "stream": "stdout",
       "text": [
        " 437\n",
        "chunk 438\n",
        "chunk"
       ]
      },
      {
       "output_type": "stream",
       "stream": "stdout",
       "text": [
        " 439\n",
        "chunk 440\n",
        "chunk"
       ]
      },
      {
       "output_type": "stream",
       "stream": "stdout",
       "text": [
        " 441\n",
        "chunk 442\n",
        "chunk"
       ]
      },
      {
       "output_type": "stream",
       "stream": "stdout",
       "text": [
        " 443\n",
        "chunk 444\n",
        "chunk"
       ]
      },
      {
       "output_type": "stream",
       "stream": "stdout",
       "text": [
        " 445\n",
        "chunk 446\n",
        "chunk"
       ]
      },
      {
       "output_type": "stream",
       "stream": "stdout",
       "text": [
        " 447\n",
        "chunk 448\n",
        "chunk"
       ]
      },
      {
       "output_type": "stream",
       "stream": "stdout",
       "text": [
        " 449\n",
        "chunk 450\n",
        "chunk"
       ]
      },
      {
       "output_type": "stream",
       "stream": "stdout",
       "text": [
        " 451\n",
        "chunk 452\n",
        "chunk"
       ]
      },
      {
       "output_type": "stream",
       "stream": "stdout",
       "text": [
        " 453\n",
        "chunk 454\n",
        "chunk"
       ]
      },
      {
       "output_type": "stream",
       "stream": "stdout",
       "text": [
        " 455\n",
        "chunk 456\n",
        "chunk"
       ]
      },
      {
       "output_type": "stream",
       "stream": "stdout",
       "text": [
        " 457\n",
        "chunk 458\n",
        "chunk"
       ]
      },
      {
       "output_type": "stream",
       "stream": "stdout",
       "text": [
        " 459\n",
        "chunk 460\n",
        "chunk"
       ]
      },
      {
       "output_type": "stream",
       "stream": "stdout",
       "text": [
        " 461\n",
        "chunk 462\n",
        "chunk"
       ]
      },
      {
       "output_type": "stream",
       "stream": "stdout",
       "text": [
        " 463\n",
        "chunk 464\n",
        "chunk"
       ]
      },
      {
       "output_type": "stream",
       "stream": "stdout",
       "text": [
        " 465\n",
        "chunk 466\n",
        "chunk"
       ]
      },
      {
       "output_type": "stream",
       "stream": "stdout",
       "text": [
        " 467\n",
        "chunk 468\n",
        "chunk"
       ]
      },
      {
       "output_type": "stream",
       "stream": "stdout",
       "text": [
        " 469\n",
        "chunk 470\n",
        "chunk"
       ]
      },
      {
       "output_type": "stream",
       "stream": "stdout",
       "text": [
        " 471\n",
        "chunk 472\n",
        "chunk"
       ]
      },
      {
       "output_type": "stream",
       "stream": "stdout",
       "text": [
        " 473\n",
        "chunk 474\n",
        "chunk"
       ]
      },
      {
       "output_type": "stream",
       "stream": "stdout",
       "text": [
        " 475\n",
        "chunk 476\n",
        "chunk"
       ]
      },
      {
       "output_type": "stream",
       "stream": "stdout",
       "text": [
        " 477\n",
        "chunk 478\n",
        "chunk"
       ]
      },
      {
       "output_type": "stream",
       "stream": "stdout",
       "text": [
        " 479\n",
        "chunk 480\n",
        "chunk"
       ]
      },
      {
       "output_type": "stream",
       "stream": "stdout",
       "text": [
        " 481\n",
        "chunk 482\n",
        "chunk"
       ]
      },
      {
       "output_type": "stream",
       "stream": "stdout",
       "text": [
        " 483\n",
        "chunk 484\n",
        "chunk"
       ]
      },
      {
       "output_type": "stream",
       "stream": "stdout",
       "text": [
        " 485\n",
        "chunk 486\n",
        "chunk"
       ]
      },
      {
       "output_type": "stream",
       "stream": "stdout",
       "text": [
        " 487\n",
        "chunk 488\n",
        "chunk"
       ]
      },
      {
       "output_type": "stream",
       "stream": "stdout",
       "text": [
        " 489\n",
        "chunk 490\n",
        "chunk"
       ]
      },
      {
       "output_type": "stream",
       "stream": "stdout",
       "text": [
        " 491\n",
        "chunk 492\n",
        "chunk"
       ]
      },
      {
       "output_type": "stream",
       "stream": "stdout",
       "text": [
        " 493\n",
        "chunk 494\n",
        "chunk"
       ]
      },
      {
       "output_type": "stream",
       "stream": "stdout",
       "text": [
        " 495\n",
        "chunk 496\n",
        "chunk"
       ]
      },
      {
       "output_type": "stream",
       "stream": "stdout",
       "text": [
        " 497\n",
        "chunk 498\n",
        "chunk"
       ]
      },
      {
       "output_type": "stream",
       "stream": "stdout",
       "text": [
        " 499\n",
        "chunk 500\n",
        "chunk"
       ]
      },
      {
       "output_type": "stream",
       "stream": "stdout",
       "text": [
        " 501\n",
        "chunk 502\n",
        "chunk"
       ]
      },
      {
       "output_type": "stream",
       "stream": "stdout",
       "text": [
        " 503\n",
        "chunk 504\n",
        "chunk"
       ]
      },
      {
       "output_type": "stream",
       "stream": "stdout",
       "text": [
        " 505\n",
        "chunk 506\n",
        "chunk"
       ]
      },
      {
       "output_type": "stream",
       "stream": "stdout",
       "text": [
        " 507\n",
        "chunk 508\n",
        "chunk"
       ]
      },
      {
       "output_type": "stream",
       "stream": "stdout",
       "text": [
        " 509\n",
        "chunk 510\n",
        "chunk"
       ]
      },
      {
       "output_type": "stream",
       "stream": "stdout",
       "text": [
        " 511\n",
        "chunk 512\n",
        "chunk"
       ]
      },
      {
       "output_type": "stream",
       "stream": "stdout",
       "text": [
        " 513\n",
        "chunk 514\n",
        "chunk"
       ]
      },
      {
       "output_type": "stream",
       "stream": "stdout",
       "text": [
        " 515\n",
        "chunk 516\n",
        "chunk"
       ]
      },
      {
       "output_type": "stream",
       "stream": "stdout",
       "text": [
        " 517\n",
        "chunk 518\n",
        "chunk"
       ]
      },
      {
       "output_type": "stream",
       "stream": "stdout",
       "text": [
        " 519\n",
        "chunk 520\n",
        "chunk"
       ]
      },
      {
       "output_type": "stream",
       "stream": "stdout",
       "text": [
        " 521\n",
        "chunk 522\n",
        "chunk"
       ]
      },
      {
       "output_type": "stream",
       "stream": "stdout",
       "text": [
        " 523\n",
        "chunk 524\n",
        "chunk"
       ]
      },
      {
       "output_type": "stream",
       "stream": "stdout",
       "text": [
        " 525\n",
        "chunk 526\n",
        "chunk"
       ]
      },
      {
       "output_type": "stream",
       "stream": "stdout",
       "text": [
        " 527\n",
        "chunk 528\n",
        "chunk"
       ]
      },
      {
       "output_type": "stream",
       "stream": "stdout",
       "text": [
        " 529\n",
        "chunk 530\n",
        "chunk"
       ]
      },
      {
       "output_type": "stream",
       "stream": "stdout",
       "text": [
        " 531\n",
        "chunk 532\n",
        "chunk"
       ]
      },
      {
       "output_type": "stream",
       "stream": "stdout",
       "text": [
        " 533\n",
        "chunk 534\n",
        "chunk"
       ]
      },
      {
       "output_type": "stream",
       "stream": "stdout",
       "text": [
        " 535\n",
        "chunk 536\n",
        "chunk"
       ]
      },
      {
       "output_type": "stream",
       "stream": "stdout",
       "text": [
        " 537\n",
        "chunk 538\n",
        "chunk"
       ]
      },
      {
       "output_type": "stream",
       "stream": "stdout",
       "text": [
        " 539\n",
        "chunk 540\n",
        "chunk"
       ]
      },
      {
       "output_type": "stream",
       "stream": "stdout",
       "text": [
        " 541\n",
        "chunk 542\n",
        "chunk"
       ]
      },
      {
       "output_type": "stream",
       "stream": "stdout",
       "text": [
        " 543\n",
        "chunk 544\n",
        "chunk"
       ]
      },
      {
       "output_type": "stream",
       "stream": "stdout",
       "text": [
        " 545\n",
        "chunk 546\n",
        "chunk"
       ]
      },
      {
       "output_type": "stream",
       "stream": "stdout",
       "text": [
        " 547\n",
        "chunk 548\n",
        "chunk"
       ]
      },
      {
       "output_type": "stream",
       "stream": "stdout",
       "text": [
        " 549\n",
        "chunk 550\n",
        "chunk"
       ]
      },
      {
       "output_type": "stream",
       "stream": "stdout",
       "text": [
        " 551\n",
        "chunk 552\n",
        "chunk"
       ]
      },
      {
       "output_type": "stream",
       "stream": "stdout",
       "text": [
        " 553\n",
        "chunk 554\n",
        "chunk"
       ]
      },
      {
       "output_type": "stream",
       "stream": "stdout",
       "text": [
        " 555\n",
        "chunk 556\n",
        "chunk"
       ]
      },
      {
       "output_type": "stream",
       "stream": "stdout",
       "text": [
        " 557\n",
        "chunk 558\n",
        "chunk"
       ]
      },
      {
       "output_type": "stream",
       "stream": "stdout",
       "text": [
        " 559\n",
        "chunk 560\n",
        "chunk"
       ]
      },
      {
       "output_type": "stream",
       "stream": "stdout",
       "text": [
        " 561\n",
        "chunk 562\n",
        "chunk"
       ]
      },
      {
       "output_type": "stream",
       "stream": "stdout",
       "text": [
        " 563\n",
        "chunk 564\n",
        "chunk"
       ]
      },
      {
       "output_type": "stream",
       "stream": "stdout",
       "text": [
        " 565\n",
        "chunk 566\n",
        "chunk"
       ]
      },
      {
       "output_type": "stream",
       "stream": "stdout",
       "text": [
        " 567\n",
        "chunk 568\n",
        "chunk"
       ]
      },
      {
       "output_type": "stream",
       "stream": "stdout",
       "text": [
        " 569\n",
        "chunk 570\n",
        "chunk"
       ]
      },
      {
       "output_type": "stream",
       "stream": "stdout",
       "text": [
        " 571\n",
        "chunk 572\n",
        "chunk"
       ]
      },
      {
       "output_type": "stream",
       "stream": "stdout",
       "text": [
        " 573\n",
        "chunk 574\n",
        "chunk"
       ]
      },
      {
       "output_type": "stream",
       "stream": "stdout",
       "text": [
        " 575\n",
        "chunk 576\n",
        "chunk"
       ]
      },
      {
       "output_type": "stream",
       "stream": "stdout",
       "text": [
        " 577\n",
        "chunk 578\n",
        "chunk"
       ]
      },
      {
       "output_type": "stream",
       "stream": "stdout",
       "text": [
        " 579\n",
        "chunk 580\n",
        "chunk"
       ]
      },
      {
       "output_type": "stream",
       "stream": "stdout",
       "text": [
        " 581\n",
        "chunk 582\n",
        "chunk"
       ]
      },
      {
       "output_type": "stream",
       "stream": "stdout",
       "text": [
        " 583\n",
        "chunk 584\n",
        "chunk"
       ]
      },
      {
       "output_type": "stream",
       "stream": "stdout",
       "text": [
        " 585\n",
        "chunk 586\n",
        "chunk"
       ]
      },
      {
       "output_type": "stream",
       "stream": "stdout",
       "text": [
        " 587\n",
        "chunk 588\n",
        "chunk"
       ]
      },
      {
       "output_type": "stream",
       "stream": "stdout",
       "text": [
        " 589\n",
        "chunk 590\n",
        "chunk"
       ]
      },
      {
       "output_type": "stream",
       "stream": "stdout",
       "text": [
        " 591\n",
        "chunk 592\n",
        "chunk"
       ]
      },
      {
       "output_type": "stream",
       "stream": "stdout",
       "text": [
        " 593\n",
        "chunk 594\n",
        "chunk"
       ]
      },
      {
       "output_type": "stream",
       "stream": "stdout",
       "text": [
        " 595\n",
        "chunk 596\n",
        "chunk"
       ]
      },
      {
       "output_type": "stream",
       "stream": "stdout",
       "text": [
        " 597\n",
        "chunk 598\n",
        "chunk"
       ]
      },
      {
       "output_type": "stream",
       "stream": "stdout",
       "text": [
        " 599\n",
        "chunk 600\n",
        "chunk"
       ]
      },
      {
       "output_type": "stream",
       "stream": "stdout",
       "text": [
        " 601\n",
        "chunk 602\n",
        "chunk"
       ]
      },
      {
       "output_type": "stream",
       "stream": "stdout",
       "text": [
        " 603\n",
        "chunk 604\n",
        "chunk"
       ]
      },
      {
       "output_type": "stream",
       "stream": "stdout",
       "text": [
        " 605\n",
        "chunk 606\n",
        "chunk"
       ]
      },
      {
       "output_type": "stream",
       "stream": "stdout",
       "text": [
        " 607\n",
        "chunk 608\n",
        "chunk"
       ]
      },
      {
       "output_type": "stream",
       "stream": "stdout",
       "text": [
        " 609\n",
        "chunk 610\n",
        "chunk"
       ]
      },
      {
       "output_type": "stream",
       "stream": "stdout",
       "text": [
        " 611\n",
        "chunk 612\n",
        "chunk"
       ]
      },
      {
       "output_type": "stream",
       "stream": "stdout",
       "text": [
        " 613\n",
        "chunk 614\n",
        "chunk"
       ]
      },
      {
       "output_type": "stream",
       "stream": "stdout",
       "text": [
        " 615\n",
        "chunk 616\n",
        "chunk"
       ]
      },
      {
       "output_type": "stream",
       "stream": "stdout",
       "text": [
        " 617\n",
        "chunk 618\n",
        "chunk"
       ]
      },
      {
       "output_type": "stream",
       "stream": "stdout",
       "text": [
        " 619\n",
        "chunk 620\n",
        "chunk"
       ]
      },
      {
       "output_type": "stream",
       "stream": "stdout",
       "text": [
        " 621\n",
        "chunk 622\n",
        "chunk"
       ]
      },
      {
       "output_type": "stream",
       "stream": "stdout",
       "text": [
        " 623\n",
        "chunk 624\n",
        "chunk"
       ]
      },
      {
       "output_type": "stream",
       "stream": "stdout",
       "text": [
        " 625\n",
        "chunk 626\n",
        "chunk"
       ]
      },
      {
       "output_type": "stream",
       "stream": "stdout",
       "text": [
        " 627\n",
        "chunk 628\n",
        "chunk"
       ]
      },
      {
       "output_type": "stream",
       "stream": "stdout",
       "text": [
        " 629\n",
        "chunk 630\n",
        "chunk"
       ]
      },
      {
       "output_type": "stream",
       "stream": "stdout",
       "text": [
        " 631\n",
        "chunk 632\n",
        "chunk"
       ]
      },
      {
       "output_type": "stream",
       "stream": "stdout",
       "text": [
        " 633\n",
        "chunk 634\n",
        "chunk"
       ]
      },
      {
       "output_type": "stream",
       "stream": "stdout",
       "text": [
        " 635\n",
        "chunk 636\n",
        "chunk"
       ]
      },
      {
       "output_type": "stream",
       "stream": "stdout",
       "text": [
        " 637\n",
        "chunk 638\n",
        "chunk"
       ]
      },
      {
       "output_type": "stream",
       "stream": "stdout",
       "text": [
        " 639\n",
        "chunk 640\n",
        "chunk"
       ]
      },
      {
       "output_type": "stream",
       "stream": "stdout",
       "text": [
        " 641\n",
        "chunk 642\n",
        "chunk"
       ]
      },
      {
       "output_type": "stream",
       "stream": "stdout",
       "text": [
        " 643\n",
        "chunk 644\n",
        "chunk"
       ]
      },
      {
       "output_type": "stream",
       "stream": "stdout",
       "text": [
        " 645\n",
        "chunk 646\n",
        "chunk"
       ]
      },
      {
       "output_type": "stream",
       "stream": "stdout",
       "text": [
        " 647\n",
        "chunk 648\n",
        "chunk"
       ]
      },
      {
       "output_type": "stream",
       "stream": "stdout",
       "text": [
        " 649\n",
        "chunk 650\n",
        "chunk"
       ]
      },
      {
       "output_type": "stream",
       "stream": "stdout",
       "text": [
        " 651\n",
        "chunk 652\n",
        "chunk"
       ]
      },
      {
       "output_type": "stream",
       "stream": "stdout",
       "text": [
        " 653\n",
        "chunk 654\n",
        "chunk"
       ]
      },
      {
       "output_type": "stream",
       "stream": "stdout",
       "text": [
        " 655\n",
        "chunk 656\n",
        "chunk"
       ]
      },
      {
       "output_type": "stream",
       "stream": "stdout",
       "text": [
        " 657\n",
        "chunk 658\n",
        "chunk"
       ]
      },
      {
       "output_type": "stream",
       "stream": "stdout",
       "text": [
        " 659\n",
        "chunk 660\n",
        "chunk"
       ]
      },
      {
       "output_type": "stream",
       "stream": "stdout",
       "text": [
        " 661\n",
        "chunk 662\n",
        "chunk"
       ]
      },
      {
       "output_type": "stream",
       "stream": "stdout",
       "text": [
        " 663\n",
        "chunk 664\n",
        "chunk"
       ]
      },
      {
       "output_type": "stream",
       "stream": "stdout",
       "text": [
        " 665\n",
        "chunk 666\n",
        "chunk"
       ]
      },
      {
       "output_type": "stream",
       "stream": "stdout",
       "text": [
        " 667\n",
        "chunk 668\n",
        "chunk"
       ]
      },
      {
       "output_type": "stream",
       "stream": "stdout",
       "text": [
        " 669\n",
        "chunk 670\n",
        "chunk"
       ]
      },
      {
       "output_type": "stream",
       "stream": "stdout",
       "text": [
        " 671\n",
        "chunk 672\n",
        "chunk"
       ]
      },
      {
       "output_type": "stream",
       "stream": "stdout",
       "text": [
        " 673\n",
        "chunk 674\n",
        "chunk"
       ]
      },
      {
       "output_type": "stream",
       "stream": "stdout",
       "text": [
        " 675\n",
        "chunk 676\n",
        "chunk"
       ]
      },
      {
       "output_type": "stream",
       "stream": "stdout",
       "text": [
        " 677\n",
        "chunk 678\n",
        "chunk"
       ]
      },
      {
       "output_type": "stream",
       "stream": "stdout",
       "text": [
        " 679\n",
        "chunk"
       ]
      },
      {
       "output_type": "stream",
       "stream": "stdout",
       "text": [
        " 680\n",
        "chunk"
       ]
      },
      {
       "output_type": "stream",
       "stream": "stdout",
       "text": [
        " 681\n",
        "chunk 682\n",
        "chunk"
       ]
      },
      {
       "output_type": "stream",
       "stream": "stdout",
       "text": [
        " 683\n",
        "chunk 684\n",
        "chunk"
       ]
      },
      {
       "output_type": "stream",
       "stream": "stdout",
       "text": [
        " 685\n",
        "chunk 686\n",
        "chunk"
       ]
      },
      {
       "output_type": "stream",
       "stream": "stdout",
       "text": [
        " 687\n",
        "chunk 688\n",
        "chunk"
       ]
      },
      {
       "output_type": "stream",
       "stream": "stdout",
       "text": [
        " 689\n",
        "chunk"
       ]
      },
      {
       "output_type": "stream",
       "stream": "stdout",
       "text": [
        " 690\n",
        "chunk"
       ]
      },
      {
       "output_type": "stream",
       "stream": "stdout",
       "text": [
        " 691\n",
        "chunk 692\n",
        "chunk"
       ]
      },
      {
       "output_type": "stream",
       "stream": "stdout",
       "text": [
        " 693\n",
        "chunk 694\n",
        "chunk"
       ]
      },
      {
       "output_type": "stream",
       "stream": "stdout",
       "text": [
        " 695\n",
        "chunk 696\n",
        "chunk"
       ]
      },
      {
       "output_type": "stream",
       "stream": "stdout",
       "text": [
        " 697\n",
        "chunk 698\n",
        "chunk"
       ]
      },
      {
       "output_type": "stream",
       "stream": "stdout",
       "text": [
        " 699\n",
        "chunk 700\n",
        "chunk"
       ]
      },
      {
       "output_type": "stream",
       "stream": "stdout",
       "text": [
        " 701\n",
        "chunk 702\n",
        "chunk"
       ]
      },
      {
       "output_type": "stream",
       "stream": "stdout",
       "text": [
        " 703\n",
        "chunk 704\n",
        "chunk"
       ]
      },
      {
       "output_type": "stream",
       "stream": "stdout",
       "text": [
        " 705\n",
        "chunk 706\n",
        "chunk"
       ]
      },
      {
       "output_type": "stream",
       "stream": "stdout",
       "text": [
        " 707\n",
        "chunk 708\n",
        "chunk"
       ]
      },
      {
       "output_type": "stream",
       "stream": "stdout",
       "text": [
        " 709\n",
        "chunk 710\n",
        "chunk"
       ]
      },
      {
       "output_type": "stream",
       "stream": "stdout",
       "text": [
        " 711\n",
        "chunk 712\n",
        "chunk"
       ]
      },
      {
       "output_type": "stream",
       "stream": "stdout",
       "text": [
        " 713\n",
        "chunk 714\n",
        "chunk"
       ]
      },
      {
       "output_type": "stream",
       "stream": "stdout",
       "text": [
        " 715\n",
        "chunk 716\n",
        "chunk"
       ]
      },
      {
       "output_type": "stream",
       "stream": "stdout",
       "text": [
        " 717\n",
        "chunk 718\n",
        "chunk"
       ]
      },
      {
       "output_type": "stream",
       "stream": "stdout",
       "text": [
        " 719\n",
        "chunk 720\n",
        "chunk"
       ]
      },
      {
       "output_type": "stream",
       "stream": "stdout",
       "text": [
        " 721\n",
        "chunk 722\n",
        "chunk"
       ]
      },
      {
       "output_type": "stream",
       "stream": "stdout",
       "text": [
        " 723\n",
        "chunk 724\n",
        "chunk"
       ]
      },
      {
       "output_type": "stream",
       "stream": "stdout",
       "text": [
        " 725\n",
        "chunk 726\n",
        "chunk"
       ]
      },
      {
       "output_type": "stream",
       "stream": "stdout",
       "text": [
        " 727\n",
        "chunk 728\n",
        "chunk"
       ]
      },
      {
       "output_type": "stream",
       "stream": "stdout",
       "text": [
        " 729\n",
        "chunk 730\n",
        "chunk"
       ]
      },
      {
       "output_type": "stream",
       "stream": "stdout",
       "text": [
        " 731\n",
        "chunk 732\n",
        "chunk"
       ]
      },
      {
       "output_type": "stream",
       "stream": "stdout",
       "text": [
        " 733\n",
        "chunk 734\n",
        "chunk"
       ]
      },
      {
       "output_type": "stream",
       "stream": "stdout",
       "text": [
        " 735\n",
        "chunk 736\n",
        "chunk"
       ]
      },
      {
       "output_type": "stream",
       "stream": "stdout",
       "text": [
        " 737\n",
        "chunk 738\n",
        "chunk"
       ]
      },
      {
       "output_type": "stream",
       "stream": "stdout",
       "text": [
        " 739\n",
        "chunk 740\n",
        "chunk"
       ]
      },
      {
       "output_type": "stream",
       "stream": "stdout",
       "text": [
        " 741\n",
        "chunk 742\n",
        "chunk"
       ]
      },
      {
       "output_type": "stream",
       "stream": "stdout",
       "text": [
        " 743\n",
        "chunk 744\n",
        "chunk"
       ]
      },
      {
       "output_type": "stream",
       "stream": "stdout",
       "text": [
        " 745\n",
        "chunk 746\n",
        "chunk"
       ]
      },
      {
       "output_type": "stream",
       "stream": "stdout",
       "text": [
        " 747\n",
        "chunk 748\n",
        "chunk"
       ]
      },
      {
       "output_type": "stream",
       "stream": "stdout",
       "text": [
        " 749\n",
        "chunk 750\n",
        "chunk"
       ]
      },
      {
       "output_type": "stream",
       "stream": "stdout",
       "text": [
        " 751\n",
        "chunk 752\n",
        "chunk"
       ]
      },
      {
       "output_type": "stream",
       "stream": "stdout",
       "text": [
        " 753\n",
        "chunk 754\n",
        "chunk"
       ]
      },
      {
       "output_type": "stream",
       "stream": "stdout",
       "text": [
        " 755\n",
        "chunk 756\n",
        "chunk"
       ]
      },
      {
       "output_type": "stream",
       "stream": "stdout",
       "text": [
        " 757\n",
        "chunk 758\n",
        "chunk"
       ]
      },
      {
       "output_type": "stream",
       "stream": "stdout",
       "text": [
        " 759\n",
        "chunk 760\n",
        "chunk"
       ]
      },
      {
       "output_type": "stream",
       "stream": "stdout",
       "text": [
        " 761\n",
        "chunk 762\n",
        "chunk"
       ]
      },
      {
       "output_type": "stream",
       "stream": "stdout",
       "text": [
        " 763\n",
        "chunk"
       ]
      },
      {
       "output_type": "stream",
       "stream": "stdout",
       "text": [
        " 764\n",
        "chunk"
       ]
      },
      {
       "output_type": "stream",
       "stream": "stdout",
       "text": [
        " 765\n",
        "chunk"
       ]
      },
      {
       "output_type": "stream",
       "stream": "stdout",
       "text": [
        " 766\n",
        "chunk 767\n",
        "chunk"
       ]
      },
      {
       "output_type": "stream",
       "stream": "stdout",
       "text": [
        " 768\n",
        "chunk 769\n",
        "chunk"
       ]
      },
      {
       "output_type": "stream",
       "stream": "stdout",
       "text": [
        " 770\n",
        "chunk 771\n",
        "chunk"
       ]
      },
      {
       "output_type": "stream",
       "stream": "stdout",
       "text": [
        " 772\n",
        "chunk 773\n",
        "chunk"
       ]
      },
      {
       "output_type": "stream",
       "stream": "stdout",
       "text": [
        " 774\n",
        "chunk 775\n",
        "chunk"
       ]
      },
      {
       "output_type": "stream",
       "stream": "stdout",
       "text": [
        " 776\n",
        "chunk 777\n",
        "chunk"
       ]
      },
      {
       "output_type": "stream",
       "stream": "stdout",
       "text": [
        " 778\n",
        "chunk 779\n",
        "chunk"
       ]
      },
      {
       "output_type": "stream",
       "stream": "stdout",
       "text": [
        " 780\n",
        "chunk 781\n",
        "chunk"
       ]
      },
      {
       "output_type": "stream",
       "stream": "stdout",
       "text": [
        " 782\n",
        "chunk 783\n",
        "chunk"
       ]
      },
      {
       "output_type": "stream",
       "stream": "stdout",
       "text": [
        " 784\n",
        "chunk 785\n",
        "chunk"
       ]
      },
      {
       "output_type": "stream",
       "stream": "stdout",
       "text": [
        " 786\n",
        "chunk 787\n",
        "chunk"
       ]
      },
      {
       "output_type": "stream",
       "stream": "stdout",
       "text": [
        " 788\n",
        "chunk 789\n",
        "chunk"
       ]
      },
      {
       "output_type": "stream",
       "stream": "stdout",
       "text": [
        " 790\n",
        "chunk 791\n",
        "chunk"
       ]
      },
      {
       "output_type": "stream",
       "stream": "stdout",
       "text": [
        " 792\n",
        "chunk 793\n",
        "chunk"
       ]
      },
      {
       "output_type": "stream",
       "stream": "stdout",
       "text": [
        " 794\n",
        "chunk 795\n",
        "chunk"
       ]
      },
      {
       "output_type": "stream",
       "stream": "stdout",
       "text": [
        " 796\n",
        "chunk 797\n",
        "chunk"
       ]
      },
      {
       "output_type": "stream",
       "stream": "stdout",
       "text": [
        " 798\n",
        "chunk 799\n",
        "chunk"
       ]
      },
      {
       "output_type": "stream",
       "stream": "stdout",
       "text": [
        " 800\n",
        "chunk 801\n",
        "chunk"
       ]
      },
      {
       "output_type": "stream",
       "stream": "stdout",
       "text": [
        " 802\n",
        "chunk 803\n",
        "chunk"
       ]
      },
      {
       "output_type": "stream",
       "stream": "stdout",
       "text": [
        " 804\n",
        "chunk 805\n",
        "chunk"
       ]
      },
      {
       "output_type": "stream",
       "stream": "stdout",
       "text": [
        " 806\n",
        "chunk 807\n",
        "chunk"
       ]
      },
      {
       "output_type": "stream",
       "stream": "stdout",
       "text": [
        " 808\n",
        "chunk 809\n",
        "chunk"
       ]
      },
      {
       "output_type": "stream",
       "stream": "stdout",
       "text": [
        " 810\n",
        "chunk 811\n",
        "chunk"
       ]
      },
      {
       "output_type": "stream",
       "stream": "stdout",
       "text": [
        " 812\n",
        "chunk 813\n",
        "chunk"
       ]
      },
      {
       "output_type": "stream",
       "stream": "stdout",
       "text": [
        " 814\n",
        "chunk"
       ]
      },
      {
       "output_type": "stream",
       "stream": "stdout",
       "text": [
        " 815\n",
        "chunk 816\n",
        "chunk"
       ]
      },
      {
       "output_type": "stream",
       "stream": "stdout",
       "text": [
        " 817\n",
        "chunk 818\n",
        "chunk"
       ]
      },
      {
       "output_type": "stream",
       "stream": "stdout",
       "text": [
        " 819\n",
        "chunk 820\n",
        "chunk"
       ]
      },
      {
       "output_type": "stream",
       "stream": "stdout",
       "text": [
        " 821\n",
        "chunk 822\n",
        "chunk"
       ]
      },
      {
       "output_type": "stream",
       "stream": "stdout",
       "text": [
        " 823\n",
        "chunk 824\n",
        "chunk"
       ]
      },
      {
       "output_type": "stream",
       "stream": "stdout",
       "text": [
        " 825\n",
        "chunk 826\n",
        "chunk"
       ]
      },
      {
       "output_type": "stream",
       "stream": "stdout",
       "text": [
        " 827\n",
        "chunk"
       ]
      },
      {
       "output_type": "stream",
       "stream": "stdout",
       "text": [
        " 828\n",
        "chunk 829\n",
        "chunk"
       ]
      },
      {
       "output_type": "stream",
       "stream": "stdout",
       "text": [
        " 830\n",
        "chunk 831\n",
        "chunk"
       ]
      },
      {
       "output_type": "stream",
       "stream": "stdout",
       "text": [
        " 832\n",
        "chunk 833\n",
        "chunk"
       ]
      },
      {
       "output_type": "stream",
       "stream": "stdout",
       "text": [
        " 834\n",
        "chunk 835\n",
        "chunk"
       ]
      },
      {
       "output_type": "stream",
       "stream": "stdout",
       "text": [
        " 836\n",
        "chunk"
       ]
      },
      {
       "output_type": "stream",
       "stream": "stdout",
       "text": [
        " 837\n",
        "chunk 838\n",
        "chunk"
       ]
      },
      {
       "output_type": "stream",
       "stream": "stdout",
       "text": [
        " 839\n",
        "chunk 840\n",
        "chunk"
       ]
      },
      {
       "output_type": "stream",
       "stream": "stdout",
       "text": [
        " 841\n",
        "chunk 842\n",
        "chunk"
       ]
      },
      {
       "output_type": "stream",
       "stream": "stdout",
       "text": [
        " 843\n",
        "chunk 844\n",
        "chunk"
       ]
      },
      {
       "output_type": "stream",
       "stream": "stdout",
       "text": [
        " 845\n",
        "chunk 846\n",
        "chunk"
       ]
      },
      {
       "output_type": "stream",
       "stream": "stdout",
       "text": [
        " 847\n",
        "chunk 848\n",
        "chunk"
       ]
      },
      {
       "output_type": "stream",
       "stream": "stdout",
       "text": [
        " 849\n",
        "chunk 850\n",
        "chunk"
       ]
      },
      {
       "output_type": "stream",
       "stream": "stdout",
       "text": [
        " 851\n",
        "chunk 852\n",
        "chunk"
       ]
      },
      {
       "output_type": "stream",
       "stream": "stdout",
       "text": [
        " 853\n",
        "chunk 854\n",
        "chunk"
       ]
      },
      {
       "output_type": "stream",
       "stream": "stdout",
       "text": [
        " 855\n",
        "chunk 856\n",
        "chunk"
       ]
      },
      {
       "output_type": "stream",
       "stream": "stdout",
       "text": [
        " 857\n",
        "chunk 858\n",
        "chunk"
       ]
      },
      {
       "output_type": "stream",
       "stream": "stdout",
       "text": [
        " 859\n",
        "chunk"
       ]
      },
      {
       "output_type": "stream",
       "stream": "stdout",
       "text": [
        " 860\n",
        "chunk"
       ]
      },
      {
       "output_type": "stream",
       "stream": "stdout",
       "text": [
        " 861\n",
        "chunk"
       ]
      },
      {
       "output_type": "stream",
       "stream": "stdout",
       "text": [
        " 862\n",
        "chunk"
       ]
      },
      {
       "output_type": "stream",
       "stream": "stdout",
       "text": [
        " 863\n",
        "chunk"
       ]
      },
      {
       "output_type": "stream",
       "stream": "stdout",
       "text": [
        " 864\n",
        "chunk"
       ]
      },
      {
       "output_type": "stream",
       "stream": "stdout",
       "text": [
        " 865\n",
        "chunk"
       ]
      },
      {
       "output_type": "stream",
       "stream": "stdout",
       "text": [
        " 866\n",
        "chunk"
       ]
      },
      {
       "output_type": "stream",
       "stream": "stdout",
       "text": [
        " 867\n",
        "chunk"
       ]
      },
      {
       "output_type": "stream",
       "stream": "stdout",
       "text": [
        " 868\n",
        "chunk"
       ]
      },
      {
       "output_type": "stream",
       "stream": "stdout",
       "text": [
        " 869\n",
        "chunk"
       ]
      },
      {
       "output_type": "stream",
       "stream": "stdout",
       "text": [
        " 870\n",
        "chunk"
       ]
      },
      {
       "output_type": "stream",
       "stream": "stdout",
       "text": [
        " 871\n",
        "chunk"
       ]
      },
      {
       "output_type": "stream",
       "stream": "stdout",
       "text": [
        " 872\n",
        "chunk"
       ]
      },
      {
       "output_type": "stream",
       "stream": "stdout",
       "text": [
        " 873\n",
        "chunk"
       ]
      },
      {
       "output_type": "stream",
       "stream": "stdout",
       "text": [
        " 874\n",
        "chunk"
       ]
      },
      {
       "output_type": "stream",
       "stream": "stdout",
       "text": [
        " 875\n",
        "chunk 876\n",
        "chunk"
       ]
      },
      {
       "output_type": "stream",
       "stream": "stdout",
       "text": [
        " 877\n",
        "chunk 878\n",
        "chunk"
       ]
      },
      {
       "output_type": "stream",
       "stream": "stdout",
       "text": [
        " 879\n",
        "chunk 880\n",
        "chunk"
       ]
      },
      {
       "output_type": "stream",
       "stream": "stdout",
       "text": [
        " 881\n",
        "chunk 882\n",
        "chunk"
       ]
      },
      {
       "output_type": "stream",
       "stream": "stdout",
       "text": [
        " 883\n",
        "chunk 884\n",
        "chunk"
       ]
      },
      {
       "output_type": "stream",
       "stream": "stdout",
       "text": [
        " 885\n",
        "chunk 886\n",
        "chunk"
       ]
      },
      {
       "output_type": "stream",
       "stream": "stdout",
       "text": [
        " 887\n",
        "chunk 888\n",
        "chunk"
       ]
      },
      {
       "output_type": "stream",
       "stream": "stdout",
       "text": [
        " 889\n",
        "chunk 890\n",
        "chunk"
       ]
      },
      {
       "output_type": "stream",
       "stream": "stdout",
       "text": [
        " 891\n",
        "chunk 892\n",
        "chunk"
       ]
      },
      {
       "output_type": "stream",
       "stream": "stdout",
       "text": [
        " 893\n",
        "chunk 894\n",
        "chunk"
       ]
      },
      {
       "output_type": "stream",
       "stream": "stdout",
       "text": [
        " 895\n",
        "chunk 896\n",
        "chunk"
       ]
      },
      {
       "output_type": "stream",
       "stream": "stdout",
       "text": [
        " 897\n",
        "chunk 898\n",
        "chunk"
       ]
      },
      {
       "output_type": "stream",
       "stream": "stdout",
       "text": [
        " 899\n",
        "chunk 900\n",
        "chunk"
       ]
      },
      {
       "output_type": "stream",
       "stream": "stdout",
       "text": [
        " 901\n",
        "chunk 902\n",
        "chunk"
       ]
      },
      {
       "output_type": "stream",
       "stream": "stdout",
       "text": [
        " 903\n",
        "chunk 904\n",
        "chunk"
       ]
      },
      {
       "output_type": "stream",
       "stream": "stdout",
       "text": [
        " 905\n",
        "chunk 906\n",
        "chunk"
       ]
      },
      {
       "output_type": "stream",
       "stream": "stdout",
       "text": [
        " 907\n",
        "chunk 908\n",
        "chunk"
       ]
      },
      {
       "output_type": "stream",
       "stream": "stdout",
       "text": [
        " 909\n",
        "chunk 910\n",
        "chunk"
       ]
      },
      {
       "output_type": "stream",
       "stream": "stdout",
       "text": [
        " 911\n",
        "chunk 912\n",
        "chunk"
       ]
      },
      {
       "output_type": "stream",
       "stream": "stdout",
       "text": [
        " 913\n",
        "chunk 914\n",
        "chunk"
       ]
      },
      {
       "output_type": "stream",
       "stream": "stdout",
       "text": [
        " 915\n",
        "chunk 916\n",
        "chunk"
       ]
      },
      {
       "output_type": "stream",
       "stream": "stdout",
       "text": [
        " 917\n",
        "chunk 918\n",
        "chunk"
       ]
      },
      {
       "output_type": "stream",
       "stream": "stdout",
       "text": [
        " 919\n",
        "chunk 920\n",
        "chunk"
       ]
      },
      {
       "output_type": "stream",
       "stream": "stdout",
       "text": [
        " 921\n",
        "chunk 922\n",
        "chunk"
       ]
      },
      {
       "output_type": "stream",
       "stream": "stdout",
       "text": [
        " 923\n",
        "chunk 924\n",
        "chunk"
       ]
      },
      {
       "output_type": "stream",
       "stream": "stdout",
       "text": [
        " 925\n",
        "chunk 926\n",
        "chunk"
       ]
      },
      {
       "output_type": "stream",
       "stream": "stdout",
       "text": [
        " 927\n",
        "chunk 928\n",
        "chunk"
       ]
      },
      {
       "output_type": "stream",
       "stream": "stdout",
       "text": [
        " 929\n",
        "chunk 930\n",
        "chunk"
       ]
      },
      {
       "output_type": "stream",
       "stream": "stdout",
       "text": [
        " 931\n",
        "chunk 932\n",
        "chunk"
       ]
      },
      {
       "output_type": "stream",
       "stream": "stdout",
       "text": [
        " 933\n",
        "chunk 934\n",
        "chunk"
       ]
      },
      {
       "output_type": "stream",
       "stream": "stdout",
       "text": [
        " 935\n",
        "chunk 936\n",
        "chunk"
       ]
      },
      {
       "output_type": "stream",
       "stream": "stdout",
       "text": [
        " 937\n",
        "chunk 938\n",
        "chunk"
       ]
      },
      {
       "output_type": "stream",
       "stream": "stdout",
       "text": [
        " 939\n",
        "chunk 940\n",
        "chunk"
       ]
      },
      {
       "output_type": "stream",
       "stream": "stdout",
       "text": [
        " 941\n",
        "chunk 942\n",
        "chunk"
       ]
      },
      {
       "output_type": "stream",
       "stream": "stdout",
       "text": [
        " 943\n",
        "chunk 944\n",
        "chunk"
       ]
      },
      {
       "output_type": "stream",
       "stream": "stdout",
       "text": [
        " 945\n",
        "chunk 946\n",
        "chunk"
       ]
      },
      {
       "output_type": "stream",
       "stream": "stdout",
       "text": [
        " 947\n",
        "chunk 948\n",
        "chunk"
       ]
      },
      {
       "output_type": "stream",
       "stream": "stdout",
       "text": [
        " 949\n",
        "chunk 950\n",
        "chunk"
       ]
      },
      {
       "output_type": "stream",
       "stream": "stdout",
       "text": [
        " 951\n",
        "chunk 952\n",
        "chunk"
       ]
      },
      {
       "output_type": "stream",
       "stream": "stdout",
       "text": [
        " 953\n",
        "chunk 954\n",
        "chunk"
       ]
      },
      {
       "output_type": "stream",
       "stream": "stdout",
       "text": [
        " 955\n",
        "chunk 956\n",
        "chunk"
       ]
      },
      {
       "output_type": "stream",
       "stream": "stdout",
       "text": [
        " 957\n",
        "chunk 958\n",
        "chunk"
       ]
      },
      {
       "output_type": "stream",
       "stream": "stdout",
       "text": [
        " 959\n",
        "chunk 960\n",
        "chunk"
       ]
      },
      {
       "output_type": "stream",
       "stream": "stdout",
       "text": [
        " 961\n",
        "chunk 962\n",
        "chunk"
       ]
      },
      {
       "output_type": "stream",
       "stream": "stdout",
       "text": [
        " 963\n",
        "chunk 964\n",
        "chunk"
       ]
      },
      {
       "output_type": "stream",
       "stream": "stdout",
       "text": [
        " 965\n",
        "chunk 966\n",
        "chunk"
       ]
      },
      {
       "output_type": "stream",
       "stream": "stdout",
       "text": [
        " 967\n",
        "chunk 968\n",
        "chunk"
       ]
      },
      {
       "output_type": "stream",
       "stream": "stdout",
       "text": [
        " 969\n",
        "chunk 970\n",
        "chunk"
       ]
      },
      {
       "output_type": "stream",
       "stream": "stdout",
       "text": [
        " 971\n",
        "chunk 972\n",
        "chunk"
       ]
      },
      {
       "output_type": "stream",
       "stream": "stdout",
       "text": [
        " 973\n",
        "chunk 974\n",
        "chunk"
       ]
      },
      {
       "output_type": "stream",
       "stream": "stdout",
       "text": [
        " 975\n",
        "chunk 976\n",
        "chunk"
       ]
      },
      {
       "output_type": "stream",
       "stream": "stdout",
       "text": [
        " 977\n",
        "chunk 978\n",
        "chunk"
       ]
      },
      {
       "output_type": "stream",
       "stream": "stdout",
       "text": [
        " 979\n",
        "chunk 980\n",
        "chunk"
       ]
      },
      {
       "output_type": "stream",
       "stream": "stdout",
       "text": [
        " 981\n",
        "chunk 982\n",
        "chunk"
       ]
      },
      {
       "output_type": "stream",
       "stream": "stdout",
       "text": [
        " 983\n",
        "chunk 984\n",
        "chunk"
       ]
      },
      {
       "output_type": "stream",
       "stream": "stdout",
       "text": [
        " 985\n",
        "chunk"
       ]
      },
      {
       "output_type": "stream",
       "stream": "stdout",
       "text": [
        " 986\n",
        "chunk"
       ]
      },
      {
       "output_type": "stream",
       "stream": "stdout",
       "text": [
        " 987\n",
        "chunk"
       ]
      },
      {
       "output_type": "stream",
       "stream": "stdout",
       "text": [
        " 988\n",
        "chunk"
       ]
      },
      {
       "output_type": "stream",
       "stream": "stdout",
       "text": [
        " 989\n",
        "chunk"
       ]
      },
      {
       "output_type": "stream",
       "stream": "stdout",
       "text": [
        " 990\n",
        "chunk 991\n",
        "chunk"
       ]
      },
      {
       "output_type": "stream",
       "stream": "stdout",
       "text": [
        " 992\n",
        "chunk"
       ]
      },
      {
       "output_type": "stream",
       "stream": "stdout",
       "text": [
        " 993\n",
        "chunk"
       ]
      },
      {
       "output_type": "stream",
       "stream": "stdout",
       "text": [
        " 994\n",
        "chunk 995\n",
        "chunk"
       ]
      },
      {
       "output_type": "stream",
       "stream": "stdout",
       "text": [
        " 996\n",
        "chunk"
       ]
      },
      {
       "output_type": "stream",
       "stream": "stdout",
       "text": [
        " 997\n",
        "chunk 998\n",
        "chunk"
       ]
      },
      {
       "output_type": "stream",
       "stream": "stdout",
       "text": [
        " 999\n",
        "chunk"
       ]
      },
      {
       "output_type": "stream",
       "stream": "stdout",
       "text": [
        " 1000\n"
       ]
      }
     ],
     "prompt_number": 10
    },
    {
     "cell_type": "code",
     "collapsed": false,
     "input": [],
     "language": "python",
     "metadata": {},
     "outputs": [],
     "prompt_number": 10
    }
   ],
   "metadata": {}
  }
 ]
}