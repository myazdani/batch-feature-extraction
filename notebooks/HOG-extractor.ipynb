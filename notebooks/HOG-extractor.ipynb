{
 "metadata": {
  "name": "",
  "signature": "sha256:b354b6b2d4352a4e6e83f8615924652c333a400704b9c616f47ccaea3e912cd0"
 },
 "nbformat": 3,
 "nbformat_minor": 0,
 "worksheets": [
  {
   "cells": [
    {
     "cell_type": "code",
     "collapsed": false,
     "input": [
      "import os\n",
      "import csv\n",
      "import cv2\n",
      "from pylab import *\n",
      "from PIL import Image\n",
      "from skimage.feature import hog\n",
      "#from joblib import Parallel, delayed\n",
      "import numpy as np\n",
      "%matplotlib inline"
     ],
     "language": "python",
     "metadata": {},
     "outputs": [],
     "prompt_number": 2
    },
    {
     "cell_type": "code",
     "collapsed": false,
     "input": [
      "src_path, image_type = \"/Users/myazdaniUCSD/Desktop/images_to_use/\", \".jpg\"\n",
      "image_paths = []\n",
      "for root, dirs, files in os.walk(src_path):\n",
      "    image_paths.extend([os.path.join(root, f) for f in files if f.endswith(image_type)])"
     ],
     "language": "python",
     "metadata": {},
     "outputs": [],
     "prompt_number": 3
    },
    {
     "cell_type": "code",
     "collapsed": false,
     "input": [
      "def HOG_return(im_path):\n",
      "    # read image\n",
      "    im = cv2.imread(im_path)\n",
      "    if str(type(im)) == \"<type 'NoneType'>\":\n",
      "        return None\n",
      "    im = cv2.cvtColor(im, cv2.COLOR_BGR2GRAY)\n",
      "    return hog(im)"
     ],
     "language": "python",
     "metadata": {},
     "outputs": [],
     "prompt_number": 8
    },
    {
     "cell_type": "code",
     "collapsed": false,
     "input": [
      "def chunks(l, n):\n",
      "    \"\"\" Yield successive n-sized chunks from l.\n",
      "    \"\"\"\n",
      "    for i in xrange(0, len(l), n):\n",
      "        yield l[i:i+n]"
     ],
     "language": "python",
     "metadata": {},
     "outputs": [],
     "prompt_number": 4
    },
    {
     "cell_type": "code",
     "collapsed": false,
     "input": [
      "chunk_size = 10\n",
      "print \"number of images is\", len(image_paths)\n",
      "image_paths_chunks = list(chunks(image_paths, chunk_size))\n",
      "print \"number of chunks is\", len(image_paths_chunks)"
     ],
     "language": "python",
     "metadata": {},
     "outputs": [
      {
       "output_type": "stream",
       "stream": "stdout",
       "text": [
        "number of images is 34\n",
        "number of chunks is 4\n"
       ]
      }
     ],
     "prompt_number": 6
    },
    {
     "cell_type": "code",
     "collapsed": false,
     "input": [
      "def get_HOG_chunks(image_paths_chunk):\n",
      "    return [[image_path, HOG_return(image_path)] for image_path in image_paths_chunk]"
     ],
     "language": "python",
     "metadata": {},
     "outputs": [],
     "prompt_number": 12
    },
    {
     "cell_type": "code",
     "collapsed": false,
     "input": [
      "csvfile = open(\"hogs.csv\", \"a\")\n",
      "resultswrtier = csv.writer(csvfile, delimiter = \",\")"
     ],
     "language": "python",
     "metadata": {},
     "outputs": [],
     "prompt_number": 10
    },
    {
     "cell_type": "code",
     "collapsed": false,
     "input": [
      "def write_to_file(res):\n",
      "    for r in res:\n",
      "        try:\n",
      "            row = [r[0]]\n",
      "            temp = [float(val) for val in r[1]]\n",
      "            row.extend(temp)\n",
      "            resultswrtier.writerow(row)\n",
      "        except:\n",
      "            print r[0],\"failed\" "
     ],
     "language": "python",
     "metadata": {},
     "outputs": [],
     "prompt_number": 11
    },
    {
     "cell_type": "code",
     "collapsed": false,
     "input": [
      "for i, image_paths_chunk in enumerate(image_paths_chunks):\n",
      "    print \"chunk\", i\n",
      "    result = get_HOG_chunks(image_paths_chunk)\n",
      "    write_to_file(result)\n",
      "\n",
      "csvfile.close()"
     ],
     "language": "python",
     "metadata": {},
     "outputs": [
      {
       "output_type": "stream",
       "stream": "stdout",
       "text": [
        "chunk 0\n",
        "chunk"
       ]
      },
      {
       "output_type": "stream",
       "stream": "stdout",
       "text": [
        " 1\n",
        "chunk"
       ]
      },
      {
       "output_type": "stream",
       "stream": "stdout",
       "text": [
        " 2\n",
        "chunk"
       ]
      },
      {
       "output_type": "stream",
       "stream": "stdout",
       "text": [
        " 3\n"
       ]
      }
     ],
     "prompt_number": 13
    },
    {
     "cell_type": "code",
     "collapsed": false,
     "input": [],
     "language": "python",
     "metadata": {},
     "outputs": []
    }
   ],
   "metadata": {}
  }
 ]
}