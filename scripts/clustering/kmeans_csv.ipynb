{
 "metadata": {
  "name": "",
  "signature": "sha256:37f8992dfd51d8f04dff8138aa4944d68beee1ad045a24b7751796a083e3863b"
 },
 "nbformat": 3,
 "nbformat_minor": 0,
 "worksheets": [
  {
   "cells": [
    {
     "cell_type": "code",
     "collapsed": false,
     "input": [
      "from sklearn.cluster import KMeans\n",
      "from pylab import *\n",
      "import csv\n",
      "import pickle "
     ],
     "language": "python",
     "metadata": {},
     "outputs": [],
     "prompt_number": 1
    },
    {
     "cell_type": "code",
     "collapsed": false,
     "input": [
      "in_file = \"../gray_scale.csv\"\n",
      "out_file = \"kmeans_clusters.p\"\n",
      "num_clusters = 3"
     ],
     "language": "python",
     "metadata": {},
     "outputs": [],
     "prompt_number": 2
    },
    {
     "cell_type": "code",
     "collapsed": false,
     "input": [
      "def return_rows(filename, file_encoding = 'rU'):\n",
      "  with open(filename, file_encoding) as f: \n",
      "    reader = csv.reader(f)\n",
      "    rowsInData = [row for row in reader]\n",
      "  return rowsInData  "
     ],
     "language": "python",
     "metadata": {},
     "outputs": [],
     "prompt_number": 3
    },
    {
     "cell_type": "code",
     "collapsed": false,
     "input": [
      "rows = return_rows(in_file)\n",
      "features = array([row[1:] for row in rows])"
     ],
     "language": "python",
     "metadata": {},
     "outputs": [],
     "prompt_number": 4
    },
    {
     "cell_type": "code",
     "collapsed": false,
     "input": [
      "kmeans = KMeans(init='k-means++', n_clusters = num_clusters, n_init=10, n_jobs = -1)"
     ],
     "language": "python",
     "metadata": {},
     "outputs": [],
     "prompt_number": 5
    },
    {
     "cell_type": "code",
     "collapsed": false,
     "input": [
      "kmeans.fit(features)"
     ],
     "language": "python",
     "metadata": {},
     "outputs": [
      {
       "metadata": {},
       "output_type": "pyout",
       "prompt_number": 6,
       "text": [
        "KMeans(copy_x=True, init='k-means++', max_iter=300, n_clusters=3, n_init=10,\n",
        "    n_jobs=-1, precompute_distances=True, random_state=None, tol=0.0001,\n",
        "    verbose=0)"
       ]
      }
     ],
     "prompt_number": 6
    },
    {
     "cell_type": "code",
     "collapsed": false,
     "input": [
      "pickle.dump(kmeans, open(out_file, \"wb\" ) )"
     ],
     "language": "python",
     "metadata": {},
     "outputs": [],
     "prompt_number": 7
    },
    {
     "cell_type": "code",
     "collapsed": false,
     "input": [
      "cluster_dists = kmeans.transform(features)"
     ],
     "language": "python",
     "metadata": {},
     "outputs": [],
     "prompt_number": 15
    },
    {
     "cell_type": "code",
     "collapsed": false,
     "input": [
      "clusters = []\n",
      "for i, row in enumerate(rows):\n",
      "    min_cluster = argmin(cluster_dists[i])\n",
      "    clusters.append([row[0], min_cluster, cluster_dists[i][min_cluster]])"
     ],
     "language": "python",
     "metadata": {},
     "outputs": [],
     "prompt_number": 19
    },
    {
     "cell_type": "code",
     "collapsed": false,
     "input": [
      "csvfile = open(\"cluster_centers.csv\", \"wb\")\n",
      "writerows = csv.writer(csvfile, delimiter = \",\")\n",
      "for cluster in clusters:\n",
      "    writerows.writerow(cluster)\n",
      "csvfile.close()"
     ],
     "language": "python",
     "metadata": {},
     "outputs": [],
     "prompt_number": 22
    }
   ],
   "metadata": {}
  }
 ]
}