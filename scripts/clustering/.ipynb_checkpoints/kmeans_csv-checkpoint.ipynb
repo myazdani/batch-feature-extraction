{
 "metadata": {
  "name": "",
  "signature": "sha256:e15fbe4dfb6a71e25d1d4786641d99b605bf3d89265d0d7a5b5f0e4e24ff1099"
 },
 "nbformat": 3,
 "nbformat_minor": 0,
 "worksheets": [
  {
   "cells": [
    {
     "cell_type": "code",
     "collapsed": false,
     "input": [
      "from sklearn.cluster import KMeans\n",
      "from pylab import *\n",
      "import csv\n",
      "import pickle "
     ],
     "language": "python",
     "metadata": {},
     "outputs": [],
     "prompt_number": 26
    },
    {
     "cell_type": "code",
     "collapsed": false,
     "input": [
      "in_file = \"../gray_scale.csv\"\n",
      "out_file = \"kmeans_clusters.p\"\n",
      "num_clusters = 3"
     ],
     "language": "python",
     "metadata": {},
     "outputs": [],
     "prompt_number": 3
    },
    {
     "cell_type": "code",
     "collapsed": false,
     "input": [
      "def return_rows(filename, file_encoding = 'rU'):\n",
      "  with open(filename, file_encoding) as f: \n",
      "    reader = csv.reader(f)\n",
      "    rowsInData = [row for row in reader]\n",
      "  return rowsInData  "
     ],
     "language": "python",
     "metadata": {},
     "outputs": [],
     "prompt_number": 4
    },
    {
     "cell_type": "code",
     "collapsed": false,
     "input": [
      "rows = return_rows(in_file)\n",
      "features = array([row[1:] for row in rows])"
     ],
     "language": "python",
     "metadata": {},
     "outputs": [],
     "prompt_number": 5
    },
    {
     "cell_type": "code",
     "collapsed": false,
     "input": [
      "kmeans = KMeans(init='k-means++', n_clusters = num_clusters, n_init=10, n_jobs = -1)"
     ],
     "language": "python",
     "metadata": {},
     "outputs": [],
     "prompt_number": 18
    },
    {
     "cell_type": "code",
     "collapsed": false,
     "input": [
      "kmeans.fit(features)"
     ],
     "language": "python",
     "metadata": {},
     "outputs": [
      {
       "metadata": {},
       "output_type": "pyout",
       "prompt_number": 21,
       "text": [
        "KMeans(copy_x=True, init='k-means++', max_iter=300, n_clusters=3, n_init=10,\n",
        "    n_jobs=-1, precompute_distances=True, random_state=None, tol=0.0001,\n",
        "    verbose=0)"
       ]
      }
     ],
     "prompt_number": 21
    },
    {
     "cell_type": "code",
     "collapsed": false,
     "input": [
      "pickle.dump(kmeans, open(out_file, \"wb\" ) )"
     ],
     "language": "python",
     "metadata": {},
     "outputs": [],
     "prompt_number": 27
    }
   ],
   "metadata": {}
  }
 ]
}